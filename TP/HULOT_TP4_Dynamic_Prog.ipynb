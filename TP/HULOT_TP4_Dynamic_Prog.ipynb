{
 "cells": [
  {
   "cell_type": "markdown",
   "metadata": {},
   "source": [
    "# M1 BIF - TP4\n",
    "# Programmation Dynamique\n",
    "\n",
    "### Valentin HULOT (M1 IL1, TP2)"
   ]
  },
  {
   "cell_type": "code",
   "execution_count": 1,
   "metadata": {},
   "outputs": [],
   "source": [
    "# from dynamicProg import DynamicMatrix"
   ]
  },
  {
   "cell_type": "code",
   "execution_count": 25,
   "metadata": {},
   "outputs": [],
   "source": [
    "#!/usr/bin/env python\n",
    "# -*- coding: utf-8 -*-\n",
    "\n",
    "# compatible python3\n",
    "\n",
    "class DynamicMatrix:\n",
    "    '''\n",
    "    stores a matrix |S|x|T| (|S|+1 lines and |T|+1columns), sequences S and T and the score system (match, mismatch, gap)\n",
    "    defines some global alignment functions\n",
    "    '''\n",
    "    \n",
    "    def __init__(self, S, T, match, mismatch, gap):\n",
    "        ''' defines and stores initial values'''\n",
    "        \n",
    "        self.S=S\n",
    "        self.T=T\n",
    "        self.gap=gap\n",
    "        self.match=match\n",
    "        self.mismatch=mismatch\n",
    "        \n",
    "        self.matrix = [0 for i in range(len(S)+1)]\n",
    "        for i in range(len(S)+1):\n",
    "            self.matrix[i] = [0 for j in range(len(T)+1)]\n",
    "            \n",
    "    def printMatrix(self):\n",
    "        ''' prints the matrix'''\n",
    "        width = 4\n",
    "        vide = \" \"\n",
    "        line = f\"{vide:>{2*width}}\"\n",
    "        for j in range(0,len(self.T)):\n",
    "            line += f\"{self.T[j]:>{width}}\"\n",
    "        print(line)\n",
    "        line = f\"{vide:>{width}}\"\n",
    "        for j in range(0,len(self.T)+1):\n",
    "            line += f\"{self.matrix[0][j]:>{width}}\"\n",
    "        print(line)\n",
    "        for i in range(1,len(self.S)+1):\n",
    "            line = f\"{self.S[i-1]:>{width}}\"\n",
    "            for j in range(0,len(self.T)+1):\n",
    "                line += f\"{self.matrix[i][j]:>{width}}\"\n",
    "            print(line)\n",
    "    \n",
    "    \n",
    "    def score(self, a : str, b : str) -> int :\n",
    "        '''\n",
    "        Compare two char\n",
    "        Return match score if equals\n",
    "        else return mismatch score \n",
    "        '''\n",
    "        if(a == b):\n",
    "            return self.match\n",
    "        return self.mismatch\n",
    "    \n",
    "    # --- GLOBAL ALIGNMENT ---\n",
    "    \n",
    "    def initGlobal(self):\n",
    "        '''\n",
    "        Initialize matrix for global alignment \n",
    "        Fill first line and column with gap values\n",
    "        '''\n",
    "        #First column\n",
    "        for i in range(len(self.S)+1):\n",
    "            self.matrix[i][0] = i*self.gap\n",
    "        \n",
    "        #First line\n",
    "        for i in range(1,len(self.T)+1):\n",
    "            self.matrix[0][i] = i*self.gap\n",
    "            \n",
    "    def fill(self):\n",
    "        '''\n",
    "        Fill matrix with Needleman-Wunsch algorithm\n",
    "        \n",
    "        '''\n",
    "        for i in range(1,len(self.S)+1):\n",
    "            for j in range(1,len(self.T)+1):\n",
    "                #Top, gap\n",
    "                delete = self.matrix[i-1][j] + self.gap\n",
    "\n",
    "                #Left, gap\n",
    "                insert = self.matrix[i][j-1] + self.gap\n",
    "                \n",
    "                #Corner top-left, match or mismath\n",
    "                match = self.matrix[i-1][j-1] + self.score(self.S[i-1],self.T[j-1])\n",
    "                \n",
    "                self.matrix[i][j] = max(delete,insert,match)\n",
    "    \n",
    "    \n",
    "    \n",
    "    def printGlobalAln(self):\n",
    "        '''\n",
    "        Print one aligment with best S score\n",
    "        '''\n",
    "        #Init iterators\n",
    "        i = len(self.S)\n",
    "        j = len(self.T)\n",
    "        \n",
    "        #init output\n",
    "        printSBuffer = ''\n",
    "        printTBuffer = ''\n",
    "        \n",
    "        #while there's still letters in S and T\n",
    "        while(i>0 and j>0):\n",
    "            \n",
    "            #Get values\n",
    "            delete = self.matrix[i-1][j]\n",
    "            insert = self.matrix[i][j-1]\n",
    "            match = self.matrix[i-1][j-1]\n",
    "            \n",
    "            maxValue= max(delete,insert,match)\n",
    "            \n",
    "            #Add operation to buffer, decrement\n",
    "            if(maxValue == match):\n",
    "                printTBuffer = self.T[j-1] + printTBuffer\n",
    "                printSBuffer = self.S[i-1] + printSBuffer\n",
    "                i -= 1\n",
    "                j -= 1\n",
    "            \n",
    "            elif(maxValue == delete):\n",
    "                printTBuffer = '-' + printTBuffer\n",
    "                printSBuffer = self.S[i-1] + printSBuffer\n",
    "                i -= 1\n",
    "            \n",
    "            else:\n",
    "                printTBuffer = self.T[j-1] + printTBuffer\n",
    "                printSBuffer = '-' + printSBuffer\n",
    "                j -= 1\n",
    "        \n",
    "        #if there's still letter in T\n",
    "        #if(i == 0):     #err\n",
    "        while(j>0):\n",
    "            printTBuffer = self.T[j-1] + printTBuffer\n",
    "            printSBuffer = '-' + printSBuffer\n",
    "            j -= 1\n",
    "\n",
    "        #if there's still letter in S\n",
    "        #elif(j == 0):      #err\n",
    "        while(i>0):\n",
    "            printTBuffer = '-' + printTBuffer\n",
    "            printSBuffer = self.S[i-1] + printSBuffer\n",
    "            i -= 1\n",
    "        \n",
    "        #print results\n",
    "        print(printTBuffer)\n",
    "        print(printSBuffer)\n",
    "        \n",
    "        \n",
    "        \n",
    "    # --- LOCAL ALIGNEMENT ---\n",
    "    def initSemiGlobal(self):\n",
    "        '''\n",
    "        Init the matrix for semi-global alignment.\n",
    "        Fill first column and line with 0\n",
    "        '''\n",
    "         #First column\n",
    "        for i in range(len(self.S)+1):\n",
    "            self.matrix[i][0] = 0\n",
    "        \n",
    "        #First line\n",
    "        for i in range(1,len(self.T)+1):\n",
    "            self.matrix[0][i] = 0\n",
    "       \n",
    "\n",
    "    def fillSemiGlobal(self):\n",
    "        '''\n",
    "        Fill matrix with Smith-Waterman algorithm\n",
    "        Same as fill w/ global, but maxValue cannot be < 0\n",
    "        \n",
    "        '''\n",
    "        for i in range(1,len(self.S)+1):\n",
    "            for j in range(1,len(self.T)+1):\n",
    "                #Top, gap\n",
    "                delete = self.matrix[i-1][j] + self.gap\n",
    "\n",
    "                #Left, gap\n",
    "                insert = self.matrix[i][j-1] + self.gap\n",
    "                \n",
    "                #Corner top-left, match or mismath\n",
    "                match = self.matrix[i-1][j-1] + self.score(self.S[i-1],self.T[j-1])\n",
    "                \n",
    "                self.matrix[i][j] = max(delete,insert,match,0)\n",
    "\n",
    "    \n",
    "    def printSemiGlobalAln(self):\n",
    "        '''\n",
    "        Print a semi-global alignment with the best score\n",
    "        Only show the aligned part between sub-seq of T, and S entirely\n",
    "        Return best score and index of first position of S in T\n",
    "        '''\n",
    "        lastLineIndex = len(self.S)\n",
    "\n",
    "        #find best score\n",
    "        maxColIndex = 1\n",
    "        #maxScore = -1    #err\n",
    "        maxScore = self.matrix[lastLineIndex][maxColIndex]\n",
    "        \n",
    "        for j in range (2,len(self.T)+1):\n",
    "            if(self.matrix[lastLineIndex][j] > maxScore):\n",
    "                maxColIndex = j\n",
    "                maxScore = self.matrix[lastLineIndex][j]\n",
    "        \n",
    "        #Code from printGlobalAln()\n",
    "        i = lastLineIndex #Modified\n",
    "        j = maxColIndex #Modified\n",
    "        \n",
    "        #init output\n",
    "        printSBuffer = ''\n",
    "        printTBuffer = ''\n",
    "        \n",
    "        \n",
    "        #while there's still letters in S and T and the value is not 0\n",
    "        current = self.matrix[i][j]\n",
    "        \n",
    "        while(current != 0):\n",
    "            \n",
    "            #Get values\n",
    "            delete = self.matrix[i-1][j]\n",
    "            insert = self.matrix[i][j-1]\n",
    "            match = self.matrix[i-1][j-1]\n",
    "\n",
    "            maxValue= max(delete,insert,match)\n",
    "\n",
    "            #Add operation to buffer, decrement\n",
    "            if(maxValue == match):\n",
    "                printTBuffer = self.T[j-1] + printTBuffer\n",
    "                printSBuffer = self.S[i-1] + printSBuffer\n",
    "                i -= 1\n",
    "                j -= 1\n",
    "\n",
    "            elif(maxValue == delete):\n",
    "                printTBuffer = '-' + printTBuffer\n",
    "                printSBuffer = self.S[i-1] + printSBuffer\n",
    "                i -= 1\n",
    "\n",
    "            else:\n",
    "                printTBuffer = self.T[j-1] + printTBuffer\n",
    "                printSBuffer = '-' + printSBuffer\n",
    "                j -= 1\n",
    "                \n",
    "            current = self.matrix[i][j]\n",
    "            \n",
    "        #block removed\n",
    "        \n",
    "        #print results\n",
    "        startIndexAln = j\n",
    "        #startIndexAln = j - 1\n",
    "\n",
    "        #if there's still letter in S\n",
    "        while(i>0):\n",
    "            printTBuffer = '-' + printTBuffer\n",
    "            printSBuffer = self.S[i-1] + printSBuffer\n",
    "            i -= 1\n",
    "\n",
    "        print(printTBuffer)\n",
    "        print(printSBuffer)\n",
    "        return (maxScore,startIndexAln)\n",
    "        \n",
    "            \n",
    "        "
   ]
  },
  {
   "cell_type": "code",
   "execution_count": 26,
   "metadata": {},
   "outputs": [
    {
     "name": "stdout",
     "output_type": "stream",
     "text": [
      "           G   A   T   A   G\n",
      "       0   0   0   0   0   0\n",
      "   A   0   0   0   0   0   0\n",
      "   A   0   0   0   0   0   0\n",
      "   T   0   0   0   0   0   0\n",
      "   G   0   0   0   0   0   0\n",
      "   A   0   0   0   0   0   0\n",
      "   A   0   0   0   0   0   0\n",
      "   T   0   0   0   0   0   0\n",
      "   C   0   0   0   0   0   0\n",
      "   A   0   0   0   0   0   0\n",
      "   A   0   0   0   0   0   0\n",
      "   T   0   0   0   0   0   0\n"
     ]
    }
   ],
   "source": [
    "##Test\n",
    "dm = DynamicMatrix(\"AATGAATCAAT\", \"GATAG\", +2, -1, -1)\n",
    "dm.printMatrix()"
   ]
  },
  {
   "cell_type": "markdown",
   "metadata": {},
   "source": [
    "## 1. Préliminaires"
   ]
  },
  {
   "cell_type": "markdown",
   "metadata": {},
   "source": [
    "#### Q1. Quel type d’objet python est utilisé pour stocker la matrice de programmation dynamique ? Avec quelle commande accède-t-on à la valeur de la cellule en face de la i-ème lettre de S et la j-ième de T ?"
   ]
  },
  {
   "cell_type": "markdown",
   "metadata": {},
   "source": [
    "Le type d'objet pour la matrice est une liste de listes.  \n",
    "La commande est matrix[i][j]."
   ]
  },
  {
   "cell_type": "markdown",
   "metadata": {},
   "source": [
    "#### Q2. Écrire une méthode score qui prend en argument 2 caractères et qui renvoie le score d’un match si les deux caractères sont égaux et le score d’un mismatch sinon.\n"
   ]
  },
  {
   "cell_type": "code",
   "execution_count": 27,
   "metadata": {},
   "outputs": [
    {
     "data": {
      "text/plain": [
       "2"
      ]
     },
     "execution_count": 27,
     "metadata": {},
     "output_type": "execute_result"
    }
   ],
   "source": [
    "#Completed in dynamicProg.py\n",
    "#right\n",
    "dm.score('a','a')"
   ]
  },
  {
   "cell_type": "code",
   "execution_count": 28,
   "metadata": {},
   "outputs": [
    {
     "data": {
      "text/plain": [
       "-1"
      ]
     },
     "execution_count": 28,
     "metadata": {},
     "output_type": "execute_result"
    }
   ],
   "source": [
    "#wrong\n",
    "dm.score('a','b')"
   ]
  },
  {
   "cell_type": "markdown",
   "metadata": {},
   "source": [
    "## 2. Alignement global"
   ]
  },
  {
   "cell_type": "markdown",
   "metadata": {},
   "source": [
    "#### Q3. Écrire une méthode initGlobal qui initialise la matrice pour l’alignement global (première ligne et première colonne).\n"
   ]
  },
  {
   "cell_type": "code",
   "execution_count": 29,
   "metadata": {},
   "outputs": [
    {
     "name": "stdout",
     "output_type": "stream",
     "text": [
      "           G   A   T   A   G\n",
      "       0  -1  -2  -3  -4  -5\n",
      "   A  -1   0   0   0   0   0\n",
      "   A  -2   0   0   0   0   0\n",
      "   T  -3   0   0   0   0   0\n",
      "   G  -4   0   0   0   0   0\n",
      "   A  -5   0   0   0   0   0\n",
      "   A  -6   0   0   0   0   0\n",
      "   T  -7   0   0   0   0   0\n",
      "   C  -8   0   0   0   0   0\n",
      "   A  -9   0   0   0   0   0\n",
      "   A -10   0   0   0   0   0\n",
      "   T -11   0   0   0   0   0\n"
     ]
    }
   ],
   "source": [
    "dm.initGlobal()\n",
    "dm.printMatrix()"
   ]
  },
  {
   "cell_type": "markdown",
   "metadata": {},
   "source": [
    "#### Q4. Écrire une méthode fill qui remplit la matrice selon l’algorithme de Needleman-Wunsch (formule de récurrence avec les trois cases voisines en haut et à gauche), et renvoie le score du meilleur alignement global des deux séquences."
   ]
  },
  {
   "cell_type": "code",
   "execution_count": 30,
   "metadata": {
    "scrolled": true
   },
   "outputs": [
    {
     "name": "stdout",
     "output_type": "stream",
     "text": [
      "           G   A   T   A   G\n",
      "       0  -1  -2  -3  -4  -5\n",
      "   A  -1  -1   1   0  -1  -2\n",
      "   A  -2  -2   1   0   2   1\n",
      "   T  -3  -3   0   3   2   1\n",
      "   G  -4  -1  -1   2   2   4\n",
      "   A  -5  -2   1   1   4   3\n",
      "   A  -6  -3   0   0   3   3\n",
      "   T  -7  -4  -1   2   2   2\n",
      "   C  -8  -5  -2   1   1   1\n",
      "   A  -9  -6  -3   0   3   2\n",
      "   A -10  -7  -4  -1   2   2\n",
      "   T -11  -8  -5  -2   1   1\n"
     ]
    }
   ],
   "source": [
    "#Completed in dynamicProg.py\n",
    "dm.fill()\n",
    "dm.printMatrix()"
   ]
  },
  {
   "cell_type": "markdown",
   "metadata": {},
   "source": [
    "#### Q5. Proposer une méthode printGlobalAln qui affiche un alignement de meilleur score de S contre T comme dans l’exemple qui suit (dans cet exemple, le système de score suivant est utilisé : match=2, mismatch=-1, gap=-1)."
   ]
  },
  {
   "cell_type": "code",
   "execution_count": 31,
   "metadata": {},
   "outputs": [
    {
     "name": "stdout",
     "output_type": "stream",
     "text": [
      "---GA-T-A-G\n",
      "AATGAATCAAT\n"
     ]
    }
   ],
   "source": [
    "dm.printGlobalAln()"
   ]
  },
  {
   "cell_type": "markdown",
   "metadata": {},
   "source": [
    "# 3. Alignement semi-global"
   ]
  },
  {
   "cell_type": "markdown",
   "metadata": {},
   "source": [
    "#### Q6. Implémenter la version semi-globale de l’alignement, où la séquence S doit être alignée en entier sur une sous-séquence de la séquence T. <br><br>Il faudra ajouter les méthodes initSemiGlobal et printSemiGlobalAln. <br><br>La fonction printSemiGlobalAln affichera un alignement semi-global de meilleur score, en affichant seulement la partie alignée (la sous-séquence de T et S en entier, sans représenter les gaps aux extrémités de la séquence S), et elle renverra le meilleur score ainsi que la position de début de l’alignement sur T."
   ]
  },
  {
   "cell_type": "code",
   "execution_count": 32,
   "metadata": {},
   "outputs": [
    {
     "name": "stdout",
     "output_type": "stream",
     "text": [
      "           A   A   T   G   A   A   T   C   A   A   T\n",
      "       0   0   0   0   0   0   0   0   0   0   0   0\n",
      "   G   0   0   0   0   0   0   0   0   0   0   0   0\n",
      "   A   0   0   0   0   0   0   0   0   0   0   0   0\n",
      "   T   0   0   0   0   0   0   0   0   0   0   0   0\n",
      "   A   0   0   0   0   0   0   0   0   0   0   0   0\n",
      "   G   0   0   0   0   0   0   0   0   0   0   0   0\n"
     ]
    }
   ],
   "source": [
    "# Test for semi-global\n",
    "dm2 = DynamicMatrix(\"GATAG\",\"AATGAATCAAT\", +2, -1, -1)\n",
    "dm2.printMatrix()"
   ]
  },
  {
   "cell_type": "code",
   "execution_count": 33,
   "metadata": {
    "scrolled": true
   },
   "outputs": [
    {
     "name": "stdout",
     "output_type": "stream",
     "text": [
      "           A   A   T   G   A   A   T   C   A   A   T\n",
      "       0   0   0   0   0   0   0   0   0   0   0   0\n",
      "   G   0   0   0   0   0   0   0   0   0   0   0   0\n",
      "   A   0   0   0   0   0   0   0   0   0   0   0   0\n",
      "   T   0   0   0   0   0   0   0   0   0   0   0   0\n",
      "   A   0   0   0   0   0   0   0   0   0   0   0   0\n",
      "   G   0   0   0   0   0   0   0   0   0   0   0   0\n"
     ]
    }
   ],
   "source": [
    "# Init\n",
    "dm2.initSemiGlobal()\n",
    "dm2.printMatrix()"
   ]
  },
  {
   "cell_type": "code",
   "execution_count": 34,
   "metadata": {},
   "outputs": [
    {
     "name": "stdout",
     "output_type": "stream",
     "text": [
      "           A   A   T   G   A   A   T   C   A   A   T\n",
      "       0   0   0   0   0   0   0   0   0   0   0   0\n",
      "   G   0   0   0   0   2   1   0   0   0   0   0   0\n",
      "   A   0   2   2   1   1   4   3   2   1   2   2   1\n",
      "   T   0   1   1   4   3   3   3   5   4   3   2   4\n",
      "   A   0   2   3   3   3   5   5   4   4   6   5   4\n",
      "   G   0   1   2   2   5   4   4   4   3   5   5   4\n"
     ]
    }
   ],
   "source": [
    "# Fill\n",
    "dm2.fillSemiGlobal()\n",
    "dm2.printMatrix()"
   ]
  },
  {
   "cell_type": "code",
   "execution_count": 35,
   "metadata": {},
   "outputs": [
    {
     "name": "stdout",
     "output_type": "stream",
     "text": [
      "-AAT-G\n",
      "GA-TAG\n",
      "score : 5\n",
      "pos : 0\n"
     ]
    }
   ],
   "source": [
    "# Print semi global alignment\n",
    "(score,pos) = dm2.printSemiGlobalAln()\n",
    "print(\"score :\",score)\n",
    "print(\"pos :\",pos)"
   ]
  },
  {
   "cell_type": "markdown",
   "metadata": {},
   "source": [
    "# 4. Bonus : alignement semi-global, en mémoire linéaire\n"
   ]
  },
  {
   "cell_type": "markdown",
   "metadata": {},
   "source": [
    "#### Q7. Implémenter la version semi-globale de telle façon que la complexité en mémoire est linéaire avec la taille de la séquence S (O(n) au lieu de O(n×m)). <br><br>On ne cherchera pas à afficher l’alignement, seulement le meilleur score. Pour cela, vous créerez une deuxième classe DMLinearMem avec les méthodes nécessaires."
   ]
  },
  {
   "cell_type": "code",
   "execution_count": 15,
   "metadata": {},
   "outputs": [],
   "source": [
    "class DMLinearMem():\n",
    "    '''\n",
    "    stores a matrix 2x|T| (2 lines and |T|+1columns), sequences S and T and the score system (match, mismatch, gap)\n",
    "    defines some semi-global alignment functions, with linear memory complexity \n",
    "    '''\n",
    "\n",
    "    def __init__(self, S, T, match, mismatch, gap):\n",
    "        ''' defines and stores initial values'''\n",
    "        \n",
    "        self.S=S\n",
    "        self.T=T\n",
    "        self.gap=gap\n",
    "        self.match=match\n",
    "        self.mismatch=mismatch\n",
    "        \n",
    "        #only 2 lines\n",
    "        self.matrix = [0 for i in range(2)]\n",
    "        \n",
    "        #Init lines with 0\n",
    "        for i in range(2):\n",
    "            self.matrix[i] = [0 for j in range(len(T)+1)]\n",
    "    \n",
    "    def printLine(self,count):\n",
    "        '''\n",
    "        Print one line of the matrix\n",
    "        if first line, print also T\n",
    "        else print only second line after\n",
    "        '''\n",
    "        width = 4\n",
    "        \n",
    "        #Print headers\n",
    "        if(count== 0):\n",
    "\n",
    "            vide = \" \"\n",
    "            line = f\"{vide:>{2*width}}\"\n",
    "        \n",
    "            for j in range(0,len(self.T)):\n",
    "                line += f\"{self.T[j]:>{width}}\"\n",
    "            print(line)\n",
    "\n",
    "            line = f\"{vide:>{width}}\"\n",
    "            \n",
    "            #print first line (no letter)\n",
    "            for j in range(0,len(self.T)+1):\n",
    "                line += f\"{self.matrix[0][j]:>{width}}\"\n",
    "            print(line)\n",
    "            \n",
    "        \n",
    "        #print only second line\n",
    "        line = f\"{self.S[count]:>{width}}\"\n",
    "        for j in range(0,len(self.T)+1):\n",
    "            line += f\"{self.matrix[1][j]:>{width}}\"\n",
    "        print(line)\n",
    "           \n",
    "            \n",
    "    def score(self, a : str, b : str) -> int :\n",
    "        '''\n",
    "        Compare two char\n",
    "        Return match score if equals\n",
    "        else return mismatch score \n",
    "        '''\n",
    "        if(a == b):\n",
    "            return self.match\n",
    "        return self.mismatch\n",
    "    \n",
    "    def getBestScore(self):     \n",
    "        '''\n",
    "        Fill the matrix but only keep 2 lines in memory\n",
    "        '''\n",
    "        #While last char of S not reached\n",
    "        count = 0\n",
    "        while(count < len(self.S)):\n",
    "            #Calc second line\n",
    "            for j in range(1,len(self.T)+1):\n",
    "                #calc best value\n",
    "                delete = self.matrix[0][j] + self.gap\n",
    "                insert = self.matrix[1][j-1] + self.gap\n",
    "                match = self.matrix[0][j-1] + self.score(self.S[count],self.T[j-1])\n",
    "                \n",
    "                self.matrix[1][j] = max(delete,insert,match,0)\n",
    "            \n",
    "            #Print\n",
    "            self.printLine(count)\n",
    "            \n",
    "            #Copy second line to first\n",
    "            self.matrix[0] = self.matrix[1]\n",
    "                        \n",
    "            #Reset second line\n",
    "            self.matrix[1] = [0 for i in range(len(self.T)+1)]\n",
    "            \n",
    "            #Increment number of line done / letters of S\n",
    "            count +=1\n",
    "            \n",
    "        return max(self.matrix[0])\n",
    "                \n",
    "            "
   ]
  },
  {
   "cell_type": "code",
   "execution_count": 16,
   "metadata": {},
   "outputs": [],
   "source": [
    "dml = DMLinearMem(\"GATAG\",\"AATGAATCAAT\", +2, -1, -1)"
   ]
  },
  {
   "cell_type": "code",
   "execution_count": 17,
   "metadata": {},
   "outputs": [
    {
     "name": "stdout",
     "output_type": "stream",
     "text": [
      "           A   A   T   G   A   A   T   C   A   A   T\n",
      "       0   0   0   0   0   0   0   0   0   0   0   0\n",
      "   G   0   0   0   0   2   1   0   0   0   0   0   0\n",
      "   A   0   2   2   1   1   4   3   2   1   2   2   1\n",
      "   T   0   1   1   4   3   3   3   5   4   3   2   4\n",
      "   A   0   2   3   3   3   5   5   4   4   6   5   4\n",
      "   G   0   1   2   2   5   4   4   4   3   5   5   4\n",
      "score :  5\n"
     ]
    }
   ],
   "source": [
    "score = dml.getBestScore()\n",
    "print(\"score : \",score)"
   ]
  },
  {
   "cell_type": "code",
   "execution_count": null,
   "metadata": {},
   "outputs": [],
   "source": []
  }
 ],
 "metadata": {
  "kernelspec": {
   "display_name": "Python 3",
   "language": "python",
   "name": "python3"
  },
  "language_info": {
   "codemirror_mode": {
    "name": "ipython",
    "version": 3
   },
   "file_extension": ".py",
   "mimetype": "text/x-python",
   "name": "python",
   "nbconvert_exporter": "python",
   "pygments_lexer": "ipython3",
   "version": "3.8.3"
  }
 },
 "nbformat": 4,
 "nbformat_minor": 4
}
