{
 "cells": [
  {
   "cell_type": "markdown",
   "metadata": {},
   "source": [
    "# M1 BIF - TP3\n",
    "# Transformée de Burrows Wheeler\n",
    "\n",
    "### Valentin HULOT (M1 IL1, TP2)"
   ]
  },
  {
   "cell_type": "code",
   "execution_count": 6,
   "metadata": {},
   "outputs": [],
   "source": [
    "import random"
   ]
  },
  {
   "cell_type": "markdown",
   "metadata": {},
   "source": [
    "#### Code from TP2"
   ]
  },
  {
   "cell_type": "code",
   "execution_count": 11,
   "metadata": {},
   "outputs": [],
   "source": [
    "\"\"\"\n",
    "Generer une sequence aleatoire de taille n\n",
    "size : taille de la sequence\n",
    "eos : caractère 'end of string', par défaut ''\n",
    "\"\"\"\n",
    "\n",
    "def generateSequence(size:int, eos='') -> str:\n",
    "    seq =\"\"\n",
    "    for i in range(size):\n",
    "        seq += random.choice('ACGT')\n",
    "    seq += eos\n",
    "    return seq\n",
    "\"\"\"\n",
    "getSuffixes\n",
    "return all suffixes of a string, in a list\n",
    "text -> the string where we get the suffixes\n",
    "\"\"\"\n",
    "def getSuffixes(text):\n",
    "    suffixes = {}\n",
    "    size = len(text)\n",
    "    for i in range(size):\n",
    "        suffixes[i] = text[i:]\n",
    "    return suffixes\n",
    "\n",
    "\"\"\"\n",
    "getSortedSuffixes\n",
    "return the list of suffixes ordered alphabetically ($<A<C<G<T)\n",
    "suffixes -> list of the suffixes to order\n",
    "\"\"\"\n",
    "\n",
    "def getSortedSuffixes(suffixes, reverse = False):\n",
    "    return sorted(suffixes.items(), key=lambda x : x[1], reverse=reverse)\n",
    "\"\"\"\n",
    "getSuffixesTable\n",
    "return only the indexes of the previously sorted suffix dict\n",
    "\"\"\"\n",
    "def getSuffixesTable(sortedSuffixes):\n",
    "    table = []\n",
    "    for elem in sortedSuffixes:\n",
    "        table.append(elem[0])\n",
    "    return table\n",
    "\n",
    "# Full fonction\n",
    "#Get all suffixes -> Sort them -> return SuffixArray\n",
    "def getSA(text, rev = False):\n",
    "    suffixes = getSuffixes(text)\n",
    "    sortedSuffixes = getSortedSuffixes(suffixes,rev)\n",
    "    suffixTable = getSuffixesTable(sortedSuffixes)\n",
    "    return suffixTable\n"
   ]
  },
  {
   "cell_type": "markdown",
   "metadata": {},
   "source": [
    "#### Q1. Codez (et testez) la fonction *get_BWT(S, SA)* renvoyant la transformée de Burrows Wheeler BWT du texte S."
   ]
  },
  {
   "cell_type": "code",
   "execution_count": 26,
   "metadata": {},
   "outputs": [],
   "source": [
    "\"\"\"\n",
    "Get BWT from SA\n",
    "BWT[i]     =    S[SA[i] -1] if SA[i] > 0\n",
    "                $           if SA[i] = 0\n",
    "\n",
    "S -> Text to search\n",
    "SA -> Suffix Array\n",
    "\n",
    "return Burrows Wheeler Transform, \n",
    "            aka list of last column of char in ordered circular suffixes\n",
    "\"\"\"\n",
    "def bwt_from_sa(S,SA):\n",
    "    sLength = len(SA)\n",
    "    BWT = sLength*[0];\n",
    "\n",
    "    for i in range (sLength):\n",
    "        if SA[i] == 0:\n",
    "            BWT[i] = '$'\n",
    "        else :\n",
    "            BWT[i] = S[SA[i]-1]\n",
    "    return BWT"
   ]
  },
  {
   "cell_type": "code",
   "execution_count": 27,
   "metadata": {},
   "outputs": [
    {
     "name": "stdout",
     "output_type": "stream",
     "text": [
      "GGGGACGGGGTCACCGGCGGCGTAGAGTTGAACAACACAATACACAGTAGCCTGTCCAAGTTTACCGCCTGGGTCCATCGGAACATTACGATTACTAAGT$\n"
     ]
    }
   ],
   "source": [
    "seq01 = generateSequence(100,'$')\n",
    "print(seq01)"
   ]
  },
  {
   "cell_type": "code",
   "execution_count": 28,
   "metadata": {},
   "outputs": [
    {
     "name": "stdout",
     "output_type": "stream",
     "text": [
      "[100, 30, 33, 81, 96, 57, 38, 31, 36, 34, 41, 43, 82, 63, 12, 87, 4, 93, 23, 48, 97, 45, 25, 58, 39, 76, 84, 90, 32, 56, 37, 35, 42, 11, 44, 75, 83, 55, 74, 64, 13, 67, 50, 88, 65, 78, 14, 17, 5, 20, 94, 68, 51, 29, 80, 3, 24, 89, 66, 49, 16, 19, 79, 2, 15, 18, 1, 0, 6, 7, 70, 8, 71, 98, 21, 46, 9, 53, 72, 26, 59, 99, 95, 40, 62, 86, 92, 22, 47, 10, 54, 73, 77, 28, 69, 52, 61, 85, 91, 27, 60]\n"
     ]
    }
   ],
   "source": [
    "sa01 = getSA(seq01)\n",
    "print(sa01)"
   ]
  },
  {
   "cell_type": "code",
   "execution_count": 29,
   "metadata": {},
   "outputs": [
    {
     "name": "stdout",
     "output_type": "stream",
     "text": [
      "['T', 'G', 'C', 'G', 'T', 'C', 'C', 'A', 'C', 'A', 'T', 'C', 'A', 'T', 'C', 'T', 'G', 'T', 'T', 'T', 'A', 'C', 'G', 'A', 'A', 'C', 'C', 'G', 'A', 'C', 'A', 'A', 'A', 'T', 'A', 'C', 'A', 'T', 'T', 'A', 'A', 'G', 'G', 'A', 'C', 'T', 'C', 'G', 'A', 'G', 'A', 'C', 'C', 'T', 'G', 'G', 'A', 'C', 'C', 'A', 'G', 'G', 'C', 'G', 'C', 'C', 'G', '$', 'C', 'G', 'T', 'G', 'G', 'A', 'C', 'A', 'G', 'T', 'G', 'A', 'A', 'G', 'C', 'A', 'T', 'T', 'T', 'G', 'G', 'G', 'G', 'G', 'A', 'T', 'C', 'C', 'T', 'A', 'A', 'G', 'G']\n"
     ]
    }
   ],
   "source": [
    "bwt01 = bwt_from_sa(seq01,sa01)\n",
    "print(bwt01)"
   ]
  },
  {
   "cell_type": "markdown",
   "metadata": {},
   "source": [
    "#### Q2. Codez la fonction *get_N(BWT)* renvoyant un tableau tel que *N*[c]= nombre d'occurrences de *c* dans BWT(S)."
   ]
  },
  {
   "cell_type": "markdown",
   "metadata": {},
   "source": [
    "#### Q3. Codez la fonction *get_R(BWT)* renvoyant un tableau tel que *R*[i]= rang dans BWT du caractère BWT[i]."
   ]
  },
  {
   "cell_type": "code",
   "execution_count": 36,
   "metadata": {},
   "outputs": [],
   "source": [
    "\"\"\"\n",
    "Get rank from BWT\n",
    "\n",
    "BWT -> Burrrows Wheeler Transform\n",
    "\n",
    "return N -> number of occurrences for each char\n",
    "       rank -> rank of each char\n",
    "\"\"\"\n",
    "def get_rank(BWT):\n",
    "    bwtLength = len(BWT)\n",
    "    rank = bwtLength *[0]\n",
    "    N = dict()\n",
    "\n",
    "    for i in range(bwtLength):\n",
    "        char = BWT[i] #get each char in order\n",
    "        if char not in N: #if char not in map already\n",
    "            N[char] = 0\n",
    "        \n",
    "        N[char] += 1 #add one occurrence\n",
    "        rank[i] = N[char]-1 #rank of this specific char is sum(occ of this char) -1\n",
    "    return N, rank"
   ]
  },
  {
   "cell_type": "code",
   "execution_count": 37,
   "metadata": {},
   "outputs": [
    {
     "name": "stdout",
     "output_type": "stream",
     "text": [
      "{'T': 20, 'G': 28, 'C': 25, 'A': 27, '$': 1}\n",
      "[0, 0, 0, 1, 1, 1, 2, 0, 3, 1, 2, 4, 2, 3, 5, 4, 2, 5, 6, 7, 3, 6, 3, 4, 5, 7, 8, 4, 6, 9, 7, 8, 9, 8, 10, 10, 11, 9, 10, 12, 13, 5, 6, 14, 11, 11, 12, 7, 15, 8, 16, 13, 14, 12, 9, 10, 17, 15, 16, 18, 11, 12, 17, 13, 18, 19, 14, 0, 20, 15, 13, 16, 17, 19, 21, 20, 18, 14, 19, 21, 22, 20, 22, 23, 15, 16, 17, 21, 22, 23, 24, 25, 24, 18, 23, 24, 19, 25, 26, 26, 27]\n"
     ]
    }
   ],
   "source": [
    "N01, rank01 = get_rank(bwt01)\n",
    "print(N01)\n",
    "print(rank01)"
   ]
  },
  {
   "cell_type": "markdown",
   "metadata": {},
   "source": [
    "#### Q4. Codez la fonction *LF(c,r,n)* qiu renvoie la position dans F du caractère *c* de rang *r*"
   ]
  },
  {
   "cell_type": "code",
   "execution_count": 43,
   "metadata": {},
   "outputs": [],
   "source": [
    "\"\"\"\n",
    "LF(c,r,N)\n",
    "Find the position of a char with a specific rank in the F column\n",
    "\n",
    "c -> char to find\n",
    "r -> rank of this char\n",
    "N -> number of occurrences\n",
    "\n",
    "return the position of the character in F\n",
    "\"\"\"\n",
    "\n",
    "def LF (c, r, N):\n",
    "    if c == '$':\n",
    "        return 0\n",
    "    alpha = ['$', 'A', 'C', 'G', 'T']\n",
    "    alphaSize = len(alpha)\n",
    "    skipIndex = 0\n",
    "\n",
    "    for i in range(alphaSize):\n",
    "        currentLetter = alpha[i]\n",
    "        if currentLetter < c : #if the letter is before the searched char\n",
    "      \n",
    "            # add the number of occurences of the previous letter, \n",
    "            #ex, if we want C, and theres 100 A before, s = 100\n",
    "            skipIndex += N[currentLetter]\n",
    "        else:\n",
    "            return skipIndex + r"
   ]
  },
  {
   "cell_type": "code",
   "execution_count": 45,
   "metadata": {},
   "outputs": [
    {
     "name": "stdout",
     "output_type": "stream",
     "text": [
      "81\n"
     ]
    }
   ],
   "source": [
    "LF01 = LF('T',0,N01)\n",
    "print(LF01)"
   ]
  },
  {
   "cell_type": "markdown",
   "metadata": {},
   "source": [
    "#### Q5. Codez la fonction *BWT2seq(BWT, N, R)* qui reconstruit, en temmps linéaire, la séquence S à partir de sa BWT."
   ]
  },
  {
   "cell_type": "code",
   "execution_count": 51,
   "metadata": {},
   "outputs": [],
   "source": [
    "\"\"\"\n",
    "Reverse BWT to reconstruct string\n",
    "\n",
    "BWT -> Burrrows Wheeler Transform\n",
    "N -> number of occurrences for each character\n",
    "rank -> rank of each character\n",
    "\n",
    "return the full string\n",
    "\"\"\"\n",
    "def BWT2seq(BWT,N,rank):\n",
    "    string = \"$\"\n",
    "    i = 0 #index in F\n",
    "\n",
    "    while BWT[i] != \"$\": #while char in L is != \"$\"\n",
    "        string = BWT[i] + string  #insert previous char in string\n",
    "        #get the position of this char in the text\n",
    "        # ex : $ -> C0\n",
    "        # now get C0 line number before re iteration\n",
    "        i = LF(BWT[i],rank[i],N)\n",
    "    \n",
    "    return string"
   ]
  },
  {
   "cell_type": "code",
   "execution_count": 52,
   "metadata": {},
   "outputs": [
    {
     "name": "stdout",
     "output_type": "stream",
     "text": [
      "GGGGACGGGGTCACCGGCGGCGTAGAGTTGAACAACACAATACACAGTAGCCTGTCCAAGTTTACCGCCTGGGTCCATCGGAACATTACGATTACTAAGT$\n"
     ]
    }
   ],
   "source": [
    "seq01rev = BWT2seq(bwt01,N01,rank01)\n",
    "print(seq01)"
   ]
  },
  {
   "cell_type": "code",
   "execution_count": 56,
   "metadata": {},
   "outputs": [
    {
     "name": "stdout",
     "output_type": "stream",
     "text": [
      "GGGGACGGGGTCACCGGCGGCGTAGAGTTGAACAACACAATACACAGTAGCCTGTCCAAGTTTACCGCCTGGGTCCATCGGAACATTACGATTACTAAGT$\n",
      "GGGGACGGGGTCACCGGCGGCGTAGAGTTGAACAACACAATACACAGTAGCCTGTCCAAGTTTACCGCCTGGGTCCATCGGAACATTACGATTACTAAGT$\n",
      "Same strings : True\n"
     ]
    }
   ],
   "source": [
    "print(seq01)\n",
    "print(seq01rev)\n",
    "print(f'Same strings : {seq01 == seq01rev}')"
   ]
  },
  {
   "cell_type": "markdown",
   "metadata": {},
   "source": [
    "#### Q6. Codez la fonction *find_first(c,i,BWT)* qui renvoie la position du premier *c* entre *i* et |BWT| - 1."
   ]
  },
  {
   "cell_type": "code",
   "execution_count": 64,
   "metadata": {},
   "outputs": [],
   "source": [
    "\n",
    "\"\"\"\n",
    "Find first occurrence of a char in L(BWT) column\n",
    "\n",
    "char -> char to look for\n",
    "i -> index where the window start\n",
    "BWT -> BWT\n",
    "\n",
    "return i, the new inferior bound\n",
    "\"\"\"\n",
    "def find_first(c,i,BWT):\n",
    "    #tant que i ne dépasse pas la fin de BWT\n",
    "    #si le caractere est different, reduit la borne inf\n",
    "    while i < len(BWT) and BWT[i] != c:\n",
    "        i = i+1\n",
    "\n",
    "    return i \n"
   ]
  },
  {
   "cell_type": "code",
   "execution_count": 65,
   "metadata": {},
   "outputs": [
    {
     "name": "stdout",
     "output_type": "stream",
     "text": [
      "12\n"
     ]
    }
   ],
   "source": [
    "ff01 = find_first('A', 10, bwt01)\n",
    "print(ff01)"
   ]
  },
  {
   "cell_type": "markdown",
   "metadata": {},
   "source": [
    "#### Q7. Codez la fonction *last(c, j, BWT)* qui renvoie la position du dernier *c* entre 0 et *j*."
   ]
  },
  {
   "cell_type": "code",
   "execution_count": 72,
   "metadata": {},
   "outputs": [],
   "source": [
    "\"\"\"\n",
    "Find last occurrence of a char in L(BWT) column\n",
    "\n",
    "char -> char to look for\n",
    "j -> index where the window end\n",
    "BWT -> BWT\n",
    "\n",
    "return j, the new superior bound\n",
    "\"\"\"\n",
    "def find_last(c,j,BWT):\n",
    "    #tant que j est toujours dans BWT\n",
    "    #si le caractere est different, reduit la borne sup\n",
    "    while j > -1 and BWT[j] != c:\n",
    "        j = j -1\n",
    "    \n",
    "    return j"
   ]
  },
  {
   "cell_type": "code",
   "execution_count": 74,
   "metadata": {},
   "outputs": [
    {
     "name": "stdout",
     "output_type": "stream",
     "text": [
      "20\n"
     ]
    }
   ],
   "source": [
    "fl01 = find_last('A', 20, bwt01)\n",
    "print(fl01)"
   ]
  },
  {
   "cell_type": "code",
   "execution_count": 75,
   "metadata": {},
   "outputs": [
    {
     "name": "stdout",
     "output_type": "stream",
     "text": [
      "['T', 'C', 'A', 'T', 'C', 'T', 'G', 'T', 'T', 'T', 'A']\n"
     ]
    }
   ],
   "source": [
    "print(bwt01[10:21])"
   ]
  },
  {
   "cell_type": "markdown",
   "metadata": {},
   "source": [
    "#### Q8. A partir des fonctions *LF*, *find_first* et *find_last*, codez la fonction *P_in_S(P, BWT, N, R, SA)* qui renvoie les occurrences de *P* dans *S* si elles existent, sinon -1"
   ]
  },
  {
   "cell_type": "code",
   "execution_count": 97,
   "metadata": {},
   "outputs": [],
   "source": [
    "\"\"\"\n",
    "search a pattern in text thanks to BWT\n",
    "\n",
    "P -> pattern \n",
    "BWT -> Burrows Wheeler Transform\n",
    "N -> occurrences for each different char\n",
    "rank -> rank of all chars\n",
    "\n",
    "return (i,j), the starting and ending position of all suffixes with the pattern\n",
    "\"\"\"\n",
    "\n",
    "def search(P,BWT, N, rank):\n",
    "  \n",
    "    pLength = len(P)\n",
    "    #i\n",
    "    startingIndex = LF(P[pLength-1],0,N) #find the index of the last char of the pattern in F\n",
    "\n",
    "    #the ending index is now \n",
    "    #the index of the first suffix beginning with a char\n",
    "    # + all the occurences of this same char\n",
    "    #j\n",
    "    endingIndex = startingIndex + N[P[pLength-1]] -1 \n",
    "\n",
    "    #(i,j) -> window of possible matchs, can only be reduced\n",
    "\n",
    "    pos_p = pLength - 2 #position du char precedent\n",
    "    match = list()\n",
    "\n",
    "    while pos_p >= 0: #tant qu'il reste des caracteres precedents\n",
    "        #get first occ of previous letter in  L\n",
    "        first = find_first(P[pos_p],startingIndex,BWT)\n",
    "\n",
    "        if first > endingIndex : #si on dépasse la fenetre, le pattern n'est pas contenu dans s\n",
    "            return False\n",
    "\n",
    "        # trouver l'index de la lettre precedente du pattern dans L\n",
    "        #borne inf\n",
    "        startingIndex = LF(P[pos_p], rank[first], N) #A, 2, occurrences[]\n",
    "\n",
    "        #get last occ of preivous letter in L\n",
    "        last = find_last(P[pos_p],endingIndex,BWT)\n",
    "\n",
    "        # trouver l'index de la lettre precedente du pattern dans L \n",
    "        #borne sup\n",
    "        endingIndex = LF(P[pos_p], rank[last], N) #A, 3, occurrences[]\n",
    "\n",
    "        pos_p = pos_p - 1 #go to previous char in pattern\n",
    "\n",
    "    return (startingIndex, endingIndex)"
   ]
  },
  {
   "cell_type": "code",
   "execution_count": 101,
   "metadata": {},
   "outputs": [
    {
     "name": "stdout",
     "output_type": "stream",
     "text": [
      "(79, 80)\n"
     ]
    }
   ],
   "source": [
    "P = 'GTT'\n",
    "\n",
    "result01 = search (P, bwt01, N01, rank01)\n",
    "print(result01)"
   ]
  },
  {
   "cell_type": "code",
   "execution_count": 108,
   "metadata": {},
   "outputs": [
    {
     "name": "stdout",
     "output_type": "stream",
     "text": [
      "26\n",
      "26\n"
     ]
    }
   ],
   "source": [
    "print(sa01[79])\n",
    "print(seq01.index(P))"
   ]
  },
  {
   "cell_type": "code",
   "execution_count": null,
   "metadata": {},
   "outputs": [],
   "source": []
  }
 ],
 "metadata": {
  "kernelspec": {
   "display_name": "Python 3",
   "language": "python",
   "name": "python3"
  },
  "language_info": {
   "codemirror_mode": {
    "name": "ipython",
    "version": 3
   },
   "file_extension": ".py",
   "mimetype": "text/x-python",
   "name": "python",
   "nbconvert_exporter": "python",
   "pygments_lexer": "ipython3",
   "version": "3.8.3"
  }
 },
 "nbformat": 4,
 "nbformat_minor": 4
}
