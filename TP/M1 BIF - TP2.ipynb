{
 "cells": [
  {
   "cell_type": "markdown",
   "metadata": {},
   "source": [
    "# M1 BIF - TP2\n",
    "# Tableau des suffixes"
   ]
  },
  {
   "cell_type": "markdown",
   "metadata": {},
   "source": [
    "## Utilitaire : générateur de séquences\n",
    "\n",
    "/!\\ Prévoir tests et evaluation des temps de calculs sur des séquences différentes"
   ]
  },
  {
   "cell_type": "code",
   "execution_count": 1,
   "metadata": {},
   "outputs": [],
   "source": [
    "import time\n",
    "import random\n",
    "\n",
    "from fasta import get_seq_from_fasta\n",
    "from print_table import print_table\n",
    "from kasai import lcp_kasai"
   ]
  },
  {
   "cell_type": "code",
   "execution_count": 2,
   "metadata": {},
   "outputs": [
    {
     "name": "stdout",
     "output_type": "stream",
     "text": [
      "test took 2e-06 seconds.\n"
     ]
    }
   ],
   "source": [
    "#Methode pour obtenir les performances d'une fonction\n",
    "\n",
    "#usage\n",
    "#seq = get_seq_from_fasta(\"file.fasta\",10000)\n",
    "#print_table(s,sa,lcp)\n",
    "\n",
    "def timer(f, **kwargs):\n",
    "    t0 = time.perf_counter()\n",
    "    ret = f(**kwargs)\n",
    "    t1 = time.perf_counter()\n",
    "    print(f'{f.__name__} took {round(t1-t0,6)} seconds.')\n",
    "\n",
    "def test(a,b):\n",
    "    return a+b\n",
    "\n",
    "timer(test, a=2, b=3)"
   ]
  },
  {
   "cell_type": "markdown",
   "metadata": {},
   "source": [
    "#### Q1. Ecrire un générateur de séquences aléatoires sur l'alphabet _{a,t,c,g}_. La fonction prendra en paramètre la taille e la séquence à générer. On utilisera des fonctions de la librairie _random_"
   ]
  },
  {
   "cell_type": "code",
   "execution_count": 3,
   "metadata": {},
   "outputs": [
    {
     "name": "stdout",
     "output_type": "stream",
     "text": [
      "generateSequence took 3.6e-05 seconds.\n"
     ]
    }
   ],
   "source": [
    "\"\"\"\n",
    "Generer une sequence aleatoire de taille n\n",
    "size : taille de la sequence\n",
    "eos : caractère 'end of string', par défaut ''\n",
    "\"\"\"\n",
    "\n",
    "def generateSequence(size:int, eos='') -> str:\n",
    "    seq =\"\"\n",
    "    for i in range(size):\n",
    "        seq += random.choice('ACGT')\n",
    "    seq += eos\n",
    "    return seq\n",
    "\n",
    "def get_seq_bis(N:int, eos='') -> str:\n",
    "    return ''.join([random.choice('ACGT') for _ in range(N)]) + eos\n",
    "    \n",
    "\n",
    "timer(generateSequence, size = 10)"
   ]
  },
  {
   "cell_type": "code",
   "execution_count": 4,
   "metadata": {},
   "outputs": [
    {
     "name": "stdout",
     "output_type": "stream",
     "text": [
      "AAACCGCCGG\n",
      "GCCGCCAGGT$\n"
     ]
    }
   ],
   "source": [
    "seq01 = generateSequence(10)\n",
    "print(seq01)\n",
    "seq02 = generateSequence(10,'$')\n",
    "print(seq02)"
   ]
  },
  {
   "cell_type": "markdown",
   "metadata": {},
   "source": [
    "## 1. Tableau des suffixes, LCP"
   ]
  },
  {
   "cell_type": "markdown",
   "metadata": {},
   "source": [
    "#### Q2. Implémentez l'ensemble des fonctions nécessaires au calcul du tableau des suffixes pour une séquence S."
   ]
  },
  {
   "cell_type": "code",
   "execution_count": 5,
   "metadata": {},
   "outputs": [
    {
     "name": "stdout",
     "output_type": "stream",
     "text": [
      "getSuffixes took 1.3e-05 seconds.\n"
     ]
    }
   ],
   "source": [
    "\"\"\"\n",
    "getSuffixes\n",
    "return all suffixes of a string, in a list\n",
    "text -> the string where we get the suffixes\n",
    "\"\"\"\n",
    "def getSuffixes(text):\n",
    "    suffixes = {}\n",
    "    size = len(text)\n",
    "    for i in range(size):\n",
    "        suffixes[i] = text[i:]\n",
    "    return suffixes\n",
    "\n",
    "timer(getSuffixes,text=seq02)"
   ]
  },
  {
   "cell_type": "code",
   "execution_count": 6,
   "metadata": {},
   "outputs": [
    {
     "data": {
      "text/plain": [
       "{0: 'GCCGCCAGGT$',\n",
       " 1: 'CCGCCAGGT$',\n",
       " 2: 'CGCCAGGT$',\n",
       " 3: 'GCCAGGT$',\n",
       " 4: 'CCAGGT$',\n",
       " 5: 'CAGGT$',\n",
       " 6: 'AGGT$',\n",
       " 7: 'GGT$',\n",
       " 8: 'GT$',\n",
       " 9: 'T$',\n",
       " 10: '$'}"
      ]
     },
     "execution_count": 6,
     "metadata": {},
     "output_type": "execute_result"
    }
   ],
   "source": [
    "suffixes01 =  getSuffixes(seq02)\n",
    "suffixes01"
   ]
  },
  {
   "cell_type": "code",
   "execution_count": 7,
   "metadata": {},
   "outputs": [],
   "source": [
    "\"\"\"\n",
    "getSortedSuffixes\n",
    "return the list of suffixes ordered alphabetically ($<A<C<G<T)\n",
    "suffixes -> list of the suffixes to order\n",
    "\"\"\"\n",
    "\n",
    "def getSortedSuffixes(suffixes, reverse = False):\n",
    "    return sorted(suffixes.items(), key=lambda x : x[1], reverse=reverse)"
   ]
  },
  {
   "cell_type": "code",
   "execution_count": 8,
   "metadata": {},
   "outputs": [
    {
     "name": "stdout",
     "output_type": "stream",
     "text": [
      "[(10, '$'), (6, 'AGGT$'), (5, 'CAGGT$'), (4, 'CCAGGT$'), (1, 'CCGCCAGGT$'), (2, 'CGCCAGGT$'), (3, 'GCCAGGT$'), (0, 'GCCGCCAGGT$'), (7, 'GGT$'), (8, 'GT$'), (9, 'T$')]\n"
     ]
    }
   ],
   "source": [
    "sortedSuffixes01 = getSortedSuffixes(suffixes01)\n",
    "print(sortedSuffixes01)\n"
   ]
  },
  {
   "cell_type": "code",
   "execution_count": 9,
   "metadata": {},
   "outputs": [
    {
     "name": "stdout",
     "output_type": "stream",
     "text": [
      "[(9, 'T$'), (8, 'GT$'), (7, 'GGT$'), (0, 'GCCGCCAGGT$'), (3, 'GCCAGGT$'), (2, 'CGCCAGGT$'), (1, 'CCGCCAGGT$'), (4, 'CCAGGT$'), (5, 'CAGGT$'), (6, 'AGGT$'), (10, '$')]\n"
     ]
    }
   ],
   "source": [
    "sortedSuffixesReversed01 = getSortedSuffixes(suffixes01,True)\n",
    "print(sortedSuffixesReversed01)"
   ]
  },
  {
   "cell_type": "code",
   "execution_count": 10,
   "metadata": {},
   "outputs": [],
   "source": [
    "\"\"\"\n",
    "getSuffixesTable\n",
    "return only the indexes of the previously sorted suffix dict\n",
    "\"\"\"\n",
    "def getSuffixesTable(sortedSuffixes):\n",
    "    table = []\n",
    "    for elem in sortedSuffixes:\n",
    "        table.append(elem[0])\n",
    "    return table"
   ]
  },
  {
   "cell_type": "code",
   "execution_count": 12,
   "metadata": {},
   "outputs": [
    {
     "name": "stdout",
     "output_type": "stream",
     "text": [
      "[10, 6, 5, 4, 1, 2, 3, 0, 7, 8, 9]\n",
      "[9, 8, 7, 0, 3, 2, 1, 4, 5, 6, 10]\n"
     ]
    }
   ],
   "source": [
    "suffixTable01 = getSuffixesTable(sortedSuffixes01)\n",
    "print(suffixTable01)\n",
    "suffixTable02 = getSuffixesTable(sortedSuffixesReversed01)\n",
    "print(suffixTable02)"
   ]
  },
  {
   "cell_type": "code",
   "execution_count": 13,
   "metadata": {},
   "outputs": [],
   "source": [
    "# Full fonction\n",
    "#Get all suffixes -> Sort them -> return SuffixArray\n",
    "\n",
    "def getSA(text, rev = False):\n",
    "    suffixes = getSuffixes(text)\n",
    "    sortedSuffixes = getSortedSuffixes(suffixes,rev)\n",
    "    suffixTable = getSuffixesTable(sortedSuffixes)\n",
    "    return suffixTable\n",
    "    "
   ]
  },
  {
   "cell_type": "code",
   "execution_count": 14,
   "metadata": {},
   "outputs": [
    {
     "name": "stdout",
     "output_type": "stream",
     "text": [
      "GCCGCCAGGT$\n",
      "[10, 6, 5, 4, 1, 2, 3, 0, 7, 8, 9]\n",
      "[9, 8, 7, 0, 3, 2, 1, 4, 5, 6, 10]\n"
     ]
    }
   ],
   "source": [
    "print(seq02)\n",
    "\n",
    "sa01 = getSA(seq02)\n",
    "print(sa01)\n",
    "sa02 = getSA(seq02, True)\n",
    "print(sa02)"
   ]
  },
  {
   "cell_type": "markdown",
   "metadata": {},
   "source": [
    "#### Q3. Implémentez une fonction de calcul de LCP : coder la fonction _get_lcp(s,sa)_ renvoyant le tableau _lcp_ tel que _lcp[i]_ est ele plus long préfixe commnu de _s[sa[i - 1],n])_."
   ]
  },
  {
   "cell_type": "code",
   "execution_count": 15,
   "metadata": {},
   "outputs": [],
   "source": [
    "\"\"\"\n",
    "Return the array of  longest common prefix between two consecutives suffixes\n",
    "text -> the text that contains the suffixes\n",
    "suffixArray -> the indexes of the suffixes, sorted alphabetically\n",
    "\"\"\"\n",
    "\n",
    "def get_lcp(text, suffixArray):\n",
    "    length = len(suffixArray)\n",
    "    lcp = [0,0]\n",
    "    \n",
    "    #Compare i with the previous suffix\n",
    "    for i in range(2,length):\n",
    "        j = 0\n",
    "        #Test both suffixes letter by letter\n",
    "        while text[suffixArray[i - 1]+j] == text[suffixArray[i]+j]:\n",
    "            j +=1\n",
    "        lcp.append(j)\n",
    "    \n",
    "    return lcp\n",
    "        \n",
    "        \n",
    "        "
   ]
  },
  {
   "cell_type": "code",
   "execution_count": 16,
   "metadata": {},
   "outputs": [
    {
     "data": {
      "text/plain": [
       "[0, 0, 1, 1, 3, 0, 1, 2, 1, 0, 0]"
      ]
     },
     "execution_count": 16,
     "metadata": {},
     "output_type": "execute_result"
    }
   ],
   "source": [
    "lcp01 = get_lcp(seq02,sa02)\n",
    "lcp01"
   ]
  },
  {
   "cell_type": "markdown",
   "metadata": {},
   "source": [
    "#### Q4.  Essayez vos implémentations de SA et LCP sur des séquences aléatoires de taille 1000,10 000, 100 000 (1 000 000 ?)."
   ]
  },
  {
   "cell_type": "code",
   "execution_count": 17,
   "metadata": {},
   "outputs": [],
   "source": [
    "#n -> le nombre de lettres a generer dans la sequence\n",
    "def testSaLcp(n, print= False):\n",
    "    seq03 = generateSequence(n,'$')\n",
    "    sa03 = getSA(seq03)\n",
    "    lcp03 = get_lcp(seq03,sa03)\n",
    "    if (print):\n",
    "        print(f'Sequence générée : {seq03}\\n')\n",
    "        print(f'Liste des suffixes trié : {sa03}\\n')\n",
    "        print(f'Liste des lcp : {lcp03}\\n')\n"
   ]
  },
  {
   "cell_type": "code",
   "execution_count": 18,
   "metadata": {},
   "outputs": [],
   "source": [
    "testSaLcp(10)"
   ]
  },
  {
   "cell_type": "code",
   "execution_count": 19,
   "metadata": {},
   "outputs": [
    {
     "name": "stdout",
     "output_type": "stream",
     "text": [
      "testSaLcp took 0.0043 seconds.\n"
     ]
    }
   ],
   "source": [
    "#Test pour 1000\n",
    "timer(testSaLcp,n=1000)"
   ]
  },
  {
   "cell_type": "code",
   "execution_count": 20,
   "metadata": {},
   "outputs": [
    {
     "name": "stdout",
     "output_type": "stream",
     "text": [
      "testSaLcp took 0.11634 seconds.\n"
     ]
    }
   ],
   "source": [
    "#Test pour 10 000\n",
    "timer(testSaLcp,n=10000)"
   ]
  },
  {
   "cell_type": "code",
   "execution_count": 21,
   "metadata": {},
   "outputs": [],
   "source": [
    "#Test pour 100 000\n",
    "#timer(testSaLcp,n=100000)\n",
    "\n",
    "#TOO LONG"
   ]
  },
  {
   "cell_type": "markdown",
   "metadata": {},
   "source": [
    "## 2. Le plus grand mot répété"
   ]
  },
  {
   "cell_type": "markdown",
   "metadata": {},
   "source": [
    "#### Q6. En utilisant le tableau des suffixes et son _lcp_ , implémenter une fonction _longest_repeat(s, sa, lcp)_ qui renvoie les plus grands mots répétés de _S_ ainsi que leurs positions dans _S_."
   ]
  },
  {
   "cell_type": "code",
   "execution_count": 22,
   "metadata": {},
   "outputs": [],
   "source": [
    "#Obtenir le plus long mot\n",
    "def getLongestRepeat(S,SA,LCP):\n",
    "    size = len(SA)\n",
    "    repeatMax= 0\n",
    "    stringMax = \"\"\n",
    "    for i in range(size):\n",
    "        if LCP[i] > repeatMax:\n",
    "            repeatMax = LCP[i];\n",
    "            stringMax = S[SA[i]:SA[i]+repeatMax]\n",
    "    return stringMax"
   ]
  },
  {
   "cell_type": "code",
   "execution_count": 23,
   "metadata": {},
   "outputs": [
    {
     "data": {
      "text/plain": [
       "'A'"
      ]
     },
     "execution_count": 23,
     "metadata": {},
     "output_type": "execute_result"
    }
   ],
   "source": [
    "size = 10\n",
    "seq04 = generateSequence(size,'$')\n",
    "sa04 = getSA(seq04)\n",
    "lcp04 = get_lcp(seq04,sa04)\n",
    "    \n",
    "lr01 = getLongestRepeat(seq04,sa04,lcp04)\n",
    "lr01"
   ]
  },
  {
   "cell_type": "code",
   "execution_count": 24,
   "metadata": {},
   "outputs": [],
   "source": [
    "#Obtenir leS plus longS motS"
   ]
  },
  {
   "cell_type": "code",
   "execution_count": 25,
   "metadata": {},
   "outputs": [],
   "source": [
    "#Obtenir le plus long mot\n",
    "def getListLongestRepeat(S,SA,LCP):\n",
    "    size = len(SA)\n",
    "    repeatMax= 0\n",
    "    stringMax = dict()\n",
    "    for i in range(size):\n",
    "        if LCP[i] == repeatMax:\n",
    "            stringMax[S[SA[i]:SA[i]+repeatMax]] = [SA[i-1], SA[i]] \n",
    "        if LCP[i] > repeatMax:\n",
    "            repeatMax = LCP[i];\n",
    "            stringMax.clear()\n",
    "            stringMax[S[SA[i]:SA[i]+repeatMax]] = [SA[i-1], SA[i]] \n",
    "    return stringMax"
   ]
  },
  {
   "cell_type": "code",
   "execution_count": 26,
   "metadata": {},
   "outputs": [
    {
     "data": {
      "text/plain": [
       "{'A': [4, 5], 'C': [8, 2], 'G': [7, 6], 'T': [1, 0]}"
      ]
     },
     "execution_count": 26,
     "metadata": {},
     "output_type": "execute_result"
    }
   ],
   "source": [
    "size = 10\n",
    "seq04 = generateSequence(size,'$')\n",
    "sa04 = getSA(seq04)\n",
    "lcp04 = get_lcp(seq04,sa04)\n",
    "    \n",
    "lr01 = getListLongestRepeat(seq04,sa04,lcp04)\n",
    "lr01"
   ]
  },
  {
   "cell_type": "markdown",
   "metadata": {},
   "source": [
    "#### Q7. Comparer le résultat de cette fonction pour des séquences biologiques et pour des séquences aléatoires. La séquence biologique se trouve dans le fichier MC48.fasta (séquence du génome de la bactérie Neisseria meningitidis strain MC58) (utiliser la fonction get_seq_from_fasta dans le fichier fasta.py)"
   ]
  },
  {
   "cell_type": "code",
   "execution_count": 27,
   "metadata": {},
   "outputs": [],
   "source": [
    "\"\"\"\n",
    "Obtenir une sequence de taille n depuis le fichier fasta\n",
    "size : taille de la sequence\n",
    "\"\"\"\n",
    "\n",
    "def getSequence(size):\n",
    "    file_path = \"./MC58.fasta\"\n",
    "    seq = get_seq_from_fasta(file_path,size) + '$'\n",
    "    return seq"
   ]
  },
  {
   "cell_type": "code",
   "execution_count": 28,
   "metadata": {},
   "outputs": [
    {
     "name": "stdout",
     "output_type": "stream",
     "text": [
      "TTCGGCTTAAACCTTATCCACATCCAAACGCATAACCGTAACCCATTCACCGTTATGGAAATGTCGCCCGACAACCACCCAGCCGAATGATTCATAAAAT ...\n",
      "{'CGTCATTCCCGCGCAGGCGGGAATCTAGAACGTAAAATCTAAAGAAACCGTGTTGTAACGGCAGACCGATGCCGTCATTCCCGCGCAGGCGGGAATCTAGACCATTGGACAGCGGCAATATTCAAAGATTATCTGAAAGTCCGAGATTCTGGATTCCCACTTTCGTGGGAATGACGGGATTTGAGATTGCGGCATTTATCGGAAAAAACAGAAACCGCTCCGCCGTCATTCCCGCGCAGGCGGGAATC': [14341, 44640]}\n"
     ]
    }
   ],
   "source": [
    "fastaSeq01 = getSequence(100000)\n",
    "print(fastaSeq01[:100],\"...\")\n",
    "\n",
    "fastaSeqSA01 = getSA(fastaSeq01)\n",
    "fastaSeqLCP01 = get_lcp(fastaSeq01,fastaSeqSA01)\n",
    "    \n",
    "fastaSeqLR01 = getListLongestRepeat(fastaSeq01,fastaSeqSA01,fastaSeqLCP01)\n",
    "print(fastaSeqLR01)"
   ]
  },
  {
   "cell_type": "markdown",
   "metadata": {},
   "source": [
    "## 3. Pattern matching"
   ]
  },
  {
   "cell_type": "markdown",
   "metadata": {},
   "source": [
    "#### Q8. Coder la fonction _search(p,s,sa)_ renvoyant :\n",
    "  - la position d'**une** occurence du mot *p* dans *s* si elle existe\n",
    "  - -1 sinon"
   ]
  },
  {
   "cell_type": "code",
   "execution_count": 30,
   "metadata": {},
   "outputs": [],
   "source": [
    "\"\"\"\n",
    "Compare two strings\n",
    "return the difference as integer\n",
    "\"\"\"\n",
    "def cmp(pattern,string,pLength):\n",
    "    for i in range(pLength):\n",
    "        if pattern[i] != string[i]:\n",
    "            return ord(pattern[i]) - ord(string[i])\n",
    "    return 0"
   ]
  },
  {
   "cell_type": "code",
   "execution_count": 31,
   "metadata": {},
   "outputs": [],
   "source": [
    "def searchPatternOccurence(pattern, string, suffixArray):\n",
    "    sLength = len(string)\n",
    "    pLength = len(pattern)\n",
    "    leftBound = 0\n",
    "    rightBound = sLength -1\n",
    "    \n",
    "    while leftBound <= rightBound:\n",
    "        mid = leftBound + (rightBound - leftBound)//2\n",
    "        match = cmp(pattern,string[suffixArray[mid]:],pLength) # pass substring ?\n",
    "        if match == 0:\n",
    "            return suffixArray[mid]\n",
    "        elif match < 0:\n",
    "            rightBound = mid - 1\n",
    "        else:\n",
    "            leftBound = mid +1\n",
    "    \n",
    "    return -1"
   ]
  },
  {
   "cell_type": "code",
   "execution_count": 32,
   "metadata": {},
   "outputs": [
    {
     "name": "stdout",
     "output_type": "stream",
     "text": [
      "44640\n"
     ]
    }
   ],
   "source": [
    "pattern = 'CGTCATTCCCGCGCAGGCGGGAATCTAGAACGTAAAATCTAAAGAAACCGTGTTGTAACGGCAGACCGATGCCGTCATTCCCGCGCAGGCGGGAATCTAGACCATTGGACAGCGGCAATATTCAAAGATTATCTGAAAGTCCGAGATTCTGGATTCCCACTTTCGTGGGAATGACGGGATTTGAGATTGCGGCATTTATCGGAAAAAACAGAAACCGCTCCGCCGTCATTCCCGCGCAGGCGGGAATC'\n",
    "answer = searchPatternOccurence(pattern,fastaSeq01,fastaSeqSA01)\n",
    "print(answer)"
   ]
  },
  {
   "cell_type": "markdown",
   "metadata": {},
   "source": [
    "#### Q9. Coder la fonction *search_pos(p, s, sa)* renvoyant :\n",
    "  - les positions **des** occurences du mot *p* dans *s* si elles existent\n",
    "  - -1 sinon"
   ]
  },
  {
   "cell_type": "code",
   "execution_count": 33,
   "metadata": {},
   "outputs": [],
   "source": [
    "def searchPatternMultipleOccurences(pattern, string, suffixArray):\n",
    "    sLength = len(string)\n",
    "    pLength = len(pattern)\n",
    "    leftBound = 0\n",
    "    rightBound = sLength -1\n",
    "    \n",
    "    #Find left bound\n",
    "    while leftBound < rightBound:\n",
    "        mid = leftBound + (rightBound - leftBound)//2\n",
    "        match = cmp(pattern,string[suffixArray[mid]:],pLength) # pass substring ?\n",
    "        if match > 0:\n",
    "            leftBound = mid +1\n",
    "        else:\n",
    "            rightBound = mid\n",
    "\n",
    "    leftBoundFound = leftBound\n",
    "    rightBound = pLength -1\n",
    "    \n",
    "    #find right bound\n",
    "    while leftBound < rightBound:\n",
    "        mid = leftBound + (rightBound - leftBound)//2\n",
    "        match = cmp(pattern,string[suffixArray[mid]:],pLength) # pass substring ?\n",
    "        if match == 0:\n",
    "            leftBound = mid + 1\n",
    "        else:\n",
    "            rightBound = mid\n",
    "    \n",
    "    #return\n",
    "    return (leftBoundFound, rightBound - 1)\n",
    "    "
   ]
  },
  {
   "cell_type": "code",
   "execution_count": 34,
   "metadata": {},
   "outputs": [
    {
     "name": "stdout",
     "output_type": "stream",
     "text": [
      "(42733, 246)\n"
     ]
    }
   ],
   "source": [
    "answer = searchPatternMultipleOccurences(pattern,fastaSeq01,fastaSeqSA01)\n",
    "print(answer)"
   ]
  },
  {
   "cell_type": "markdown",
   "metadata": {},
   "source": [
    "#### Q10. Comparer les performances de la fonction avec votre implémentation de Pattern Matching sans indexation (version naïve et Morris Pratt)"
   ]
  },
  {
   "cell_type": "code",
   "execution_count": 36,
   "metadata": {},
   "outputs": [
    {
     "name": "stdout",
     "output_type": "stream",
     "text": [
      "searchPatternMultipleOccurences took 0.000561 seconds.\n"
     ]
    }
   ],
   "source": [
    "timer(searchPatternMultipleOccurences,pattern=pattern,string=fastaSeq01,suffixArray=fastaSeqSA01)"
   ]
  },
  {
   "cell_type": "markdown",
   "metadata": {},
   "source": [
    "### Imports from TP1"
   ]
  },
  {
   "cell_type": "code",
   "execution_count": 38,
   "metadata": {},
   "outputs": [],
   "source": [
    "# creer un hash d'une string\n",
    "# fait la somme des valeurs ascii de chaque lettre\n",
    "def hash_value(s,p):\n",
    "    s = s.upper()\n",
    "    hash = 0\n",
    "    for i in range(len(s)):\n",
    "        hash += ord(s[i]) * p**i\n",
    "    return hash\n",
    "\n",
    "# pass substring of text as parameter\n",
    "# len(string) = len(pattern)+1, to get previous and next letter\n",
    "def update_hash_value2(previous,S,prime,pLen):\n",
    "    S = S.upper()\n",
    "    hash = previous - ord(S[0])\n",
    "    hash //= prime\n",
    "    hash += ord(S[pLen]) * prime**(pLen-1)\n",
    "    return hash\n",
    "\n",
    "#RabinKarp, passing substring of text as parameter in update_hash function\n",
    "def RabinKarp2(P,T,p):\n",
    "    pattern = P.upper()\n",
    "    text = T.upper()\n",
    "    pLen = len(pattern)\n",
    "    tLen = len(text)\n",
    "    assert pLen <= tLen\n",
    "    matchList = []\n",
    "    \n",
    "    hash_pattern = hash_value(pattern,p)\n",
    "    hash_text = hash_value(text[:pLen],p)\n",
    "    \n",
    "    for i in range (tLen - pLen+1):\n",
    "        if(hash_pattern == hash_text):\n",
    "            j = 0\n",
    "            while (j<pLen):\n",
    "                if (text[i+j] != pattern[j]):\n",
    "                    break\n",
    "                j+=1\n",
    "            if (j==pLen):\n",
    "                matchList.append(i)\n",
    "                \n",
    "        if(i < tLen - pLen):\n",
    "            hash_text = update_hash_value2(hash_text,text[i:i+pLen+1],p,pLen) #Changed the update_hash function\n",
    "    return matchList"
   ]
  },
  {
   "cell_type": "code",
   "execution_count": 40,
   "metadata": {},
   "outputs": [
    {
     "name": "stdout",
     "output_type": "stream",
     "text": [
      "RabinKarp2 took 0.354219 seconds.\n"
     ]
    }
   ],
   "source": [
    "timer(RabinKarp2,P=pattern,T=fastaSeq01,p=11)"
   ]
  },
  {
   "cell_type": "code",
   "execution_count": 41,
   "metadata": {},
   "outputs": [],
   "source": [
    "def naive_pattern_matching(pattern, text):\n",
    "    pattern = pattern.upper() #pattern a rechercher\n",
    "    text = text.upper() #texte où rechercher le pattern\n",
    "    pLen = len(pattern) #longueur du pattern\n",
    "    tLen = len(text)    #longueur du texte\n",
    "    match = []\n",
    "    \n",
    "    for i in range (tLen - pLen+1):  #parcourir le texte jusqu'a ce que le pattern ne rentre plus dans le texte restant\n",
    "\n",
    "        j = 0  #comparer les lettres du pattern et du texte une a une\n",
    "        while (j<pLen):\n",
    "            if (text[i+j] != pattern[j]):  #si les lettres ne correspondent pas, exit de la boucle while\n",
    "                break\n",
    "            j+=1\n",
    "            \n",
    "        if (j==pLen):  #si le pattern correspond\n",
    "            match.append(i)  #ajouter a la liste des occurences\n",
    "    return match"
   ]
  },
  {
   "cell_type": "code",
   "execution_count": 44,
   "metadata": {},
   "outputs": [
    {
     "name": "stdout",
     "output_type": "stream",
     "text": [
      "naive_pattern_matching took 0.066705 seconds.\n"
     ]
    }
   ],
   "source": [
    "timer(naive_pattern_matching,pattern=pattern,text=fastaSeq01)"
   ]
  },
  {
   "cell_type": "markdown",
   "metadata": {},
   "source": [
    "### Conclusion\n",
    "searchPatternMultipleOccurences took 0.000561 seconds.  \n",
    "naive_pattern_matching took 0.066705 seconds.  \n",
    "RabinKarp2 took 0.354219 seconds.  "
   ]
  }
 ],
 "metadata": {
  "kernelspec": {
   "display_name": "Python 3",
   "language": "python",
   "name": "python3"
  },
  "language_info": {
   "codemirror_mode": {
    "name": "ipython",
    "version": 3
   },
   "file_extension": ".py",
   "mimetype": "text/x-python",
   "name": "python",
   "nbconvert_exporter": "python",
   "pygments_lexer": "ipython3",
   "version": "3.8.3"
  }
 },
 "nbformat": 4,
 "nbformat_minor": 4
}
