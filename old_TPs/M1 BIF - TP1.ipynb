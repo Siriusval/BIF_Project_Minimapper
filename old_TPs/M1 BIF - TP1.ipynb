{
 "cells": [
  {
   "cell_type": "markdown",
   "metadata": {},
   "source": [
    "# M1 BIF - TP1\n",
    "# Pattern Matching without index"
   ]
  },
  {
   "cell_type": "markdown",
   "metadata": {},
   "source": [
    "## 1. Complexity"
   ]
  },
  {
   "cell_type": "markdown",
   "metadata": {},
   "source": [
    "#### Q1. Write a sleep function with complexities"
   ]
  },
  {
   "cell_type": "code",
   "execution_count": 1,
   "metadata": {},
   "outputs": [],
   "source": [
    "import time"
   ]
  },
  {
   "cell_type": "code",
   "execution_count": 2,
   "metadata": {},
   "outputs": [],
   "source": [
    "#sleep\n",
    "def s():\n",
    "    time.sleep(0.0005)"
   ]
  },
  {
   "cell_type": "code",
   "execution_count": 3,
   "metadata": {},
   "outputs": [],
   "source": [
    "#O(1)\n",
    "# pas de relation entre les variables d'entree et me temps d'execution\n",
    "def o1(n):\n",
    "    for i in range (1000):\n",
    "        s()"
   ]
  },
  {
   "cell_type": "code",
   "execution_count": 4,
   "metadata": {},
   "outputs": [],
   "source": [
    "#O(n)\n",
    "def on(n):\n",
    "    for i in range (n):\n",
    "        s()"
   ]
  },
  {
   "cell_type": "code",
   "execution_count": 5,
   "metadata": {},
   "outputs": [],
   "source": [
    "#O(n^2)\n",
    "def on2(n):\n",
    "    for i in range (n):\n",
    "        for j in range(n):\n",
    "            s()"
   ]
  },
  {
   "cell_type": "code",
   "execution_count": 6,
   "metadata": {},
   "outputs": [],
   "source": [
    "#O(n^3)\n",
    "def on3(n):\n",
    "    for i in range (n):\n",
    "        for j in range(n):\n",
    "            for k in range(n):\n",
    "                s()"
   ]
  },
  {
   "cell_type": "code",
   "execution_count": 7,
   "metadata": {},
   "outputs": [],
   "source": [
    "#O(n^4)\n",
    "def on4(n):\n",
    "    for i in range (n):\n",
    "        for j in range(n):\n",
    "            for k in range(n):\n",
    "                for l in range (n):\n",
    "                    s()"
   ]
  },
  {
   "cell_type": "code",
   "execution_count": 8,
   "metadata": {},
   "outputs": [],
   "source": [
    "#O(log(n))\n",
    "def ologn(n):\n",
    "    while (n>0):\n",
    "        n //= 2\n",
    "        s()"
   ]
  },
  {
   "cell_type": "code",
   "execution_count": 9,
   "metadata": {},
   "outputs": [],
   "source": [
    "#O(nlog(n))\n",
    "def onlogn(n):\n",
    "    for i in range(n):\n",
    "        ologn(n)"
   ]
  },
  {
   "cell_type": "code",
   "execution_count": 10,
   "metadata": {},
   "outputs": [],
   "source": [
    "def howLong(f,n):\n",
    "    t0 = time.perf_counter()\n",
    "    f(n)\n",
    "    t1 = time.perf_counter()\n",
    "    print(f'{f.__name__} took {t1-t0} seconds')\n",
    "    \n",
    "n = 50\n",
    "fcts = [o1, on, on2, ologn, onlogn]"
   ]
  },
  {
   "cell_type": "code",
   "execution_count": 11,
   "metadata": {},
   "outputs": [
    {
     "name": "stdout",
     "output_type": "stream",
     "text": [
      "o1 took 10.0848203 seconds\n",
      "on took 0.7075862000000015 seconds\n",
      "on2 took 37.2449341 seconds\n",
      "ologn took 0.09325819999999396 seconds\n",
      "onlogn took 4.635810899999996 seconds\n"
     ]
    }
   ],
   "source": [
    "for f in fcts:\n",
    "    howLong(f,n)"
   ]
  },
  {
   "cell_type": "markdown",
   "metadata": {},
   "source": [
    "## 2. Python and sequences - a reminder"
   ]
  },
  {
   "cell_type": "markdown",
   "metadata": {},
   "source": [
    "#### Q2. Write function that takes string S, two integers a and b.\n",
    "It prints :\n",
    "    - S[a,b], S[0,a], S[b, |S|-1]  \n",
    "    - S[0,2,...,|S|-1 if |S| is even, S[0,2,...,|S|-2] else  \n",
    "    - the GC rate, with a precision of two decimals"
   ]
  },
  {
   "cell_type": "code",
   "execution_count": 12,
   "metadata": {},
   "outputs": [],
   "source": [
    "s = 'hello jupyter notebook'\n",
    "a = 1\n",
    "b = 7"
   ]
  },
  {
   "cell_type": "code",
   "execution_count": 13,
   "metadata": {},
   "outputs": [
    {
     "data": {
      "text/plain": [
       "'ello ju'"
      ]
     },
     "execution_count": 13,
     "metadata": {},
     "output_type": "execute_result"
    }
   ],
   "source": [
    "#S[a,b]\n",
    "s[a:b+1]"
   ]
  },
  {
   "cell_type": "code",
   "execution_count": 14,
   "metadata": {},
   "outputs": [
    {
     "data": {
      "text/plain": [
       "'he'"
      ]
     },
     "execution_count": 14,
     "metadata": {},
     "output_type": "execute_result"
    }
   ],
   "source": [
    "#S[0,a]\n",
    "s[0:a+1]"
   ]
  },
  {
   "cell_type": "code",
   "execution_count": 15,
   "metadata": {},
   "outputs": [
    {
     "data": {
      "text/plain": [
       "'upyter notebook'"
      ]
     },
     "execution_count": 15,
     "metadata": {},
     "output_type": "execute_result"
    }
   ],
   "source": [
    "#S[b,|S|-1]\n",
    "s[b:len(s)]"
   ]
  },
  {
   "cell_type": "code",
   "execution_count": 16,
   "metadata": {},
   "outputs": [
    {
     "data": {
      "text/plain": [
       "'hlojptrntbo'"
      ]
     },
     "execution_count": 16,
     "metadata": {},
     "output_type": "execute_result"
    }
   ],
   "source": [
    "# Every 2 characters\n",
    "s[::2]"
   ]
  },
  {
   "cell_type": "code",
   "execution_count": 17,
   "metadata": {},
   "outputs": [],
   "source": [
    "#GC rate\n",
    "def gcRate(word):\n",
    "    nbGC = 0\n",
    "    word = word.upper()\n",
    "    for i in range (len(word)):\n",
    "        if (word[i] in 'GC'):\n",
    "            nbGC +=1\n",
    "    \n",
    "    print(f'Nombre d\\'occurences : {nbGC}')\n",
    "    return nbGC/len(word)\n"
   ]
  },
  {
   "cell_type": "code",
   "execution_count": 18,
   "metadata": {},
   "outputs": [
    {
     "name": "stdout",
     "output_type": "stream",
     "text": [
      "Nombre d'occurences : 5\n",
      "GC rate :  0.38\n"
     ]
    }
   ],
   "source": [
    "#Print with a precision of 2 decimals\n",
    "word = \"atatcgatcgact\"\n",
    "rate = gcRate(word)\n",
    "print(f'GC rate : {rate : .2f}')"
   ]
  },
  {
   "cell_type": "markdown",
   "metadata": {},
   "source": [
    "#### Q3. Write another function \"whereIsA\" which takes a string s (contains {A,C,G,T}), and return a list o the occurences positions of the letter 'A'"
   ]
  },
  {
   "cell_type": "code",
   "execution_count": 19,
   "metadata": {},
   "outputs": [],
   "source": [
    "#find all occurences of A\n",
    "def whereIsA(word):\n",
    "    occurences = []\n",
    "    wordUppercase = word.upper()\n",
    "    for i in range (len(wordUppercase)):\n",
    "        if(wordUppercase[i]=='A'):\n",
    "            occurences.append(i)\n",
    "    return occurences"
   ]
  },
  {
   "cell_type": "code",
   "execution_count": 20,
   "metadata": {},
   "outputs": [],
   "source": [
    "def whereIsA_bis(S : str) -> list:\n",
    "    return [index for index, letter in enumerate(5) if letter =='A']\n",
    "    "
   ]
  },
  {
   "cell_type": "code",
   "execution_count": 21,
   "metadata": {},
   "outputs": [
    {
     "data": {
      "text/plain": [
       "[0, 4, 8, 11, 14]"
      ]
     },
     "execution_count": 21,
     "metadata": {},
     "output_type": "execute_result"
    }
   ],
   "source": [
    "#Test de whereIsA\n",
    "word = \"atcgatcgactagca\"\n",
    "whereIsA(word)"
   ]
  },
  {
   "cell_type": "markdown",
   "metadata": {},
   "source": [
    "## 3. Naive Exact Pattern Matching"
   ]
  },
  {
   "cell_type": "markdown",
   "metadata": {},
   "source": [
    "#### Q4. Write a function naive_pattern_matching(P,T) which prints the occurence positions of P in T"
   ]
  },
  {
   "cell_type": "code",
   "execution_count": 22,
   "metadata": {},
   "outputs": [],
   "source": [
    "def naive_pattern_matching(pattern, text):\n",
    "    pattern = pattern.upper() #pattern a rechercher\n",
    "    text = text.upper() #texte où rechercher le pattern\n",
    "    pLen = len(pattern) #longueur du pattern\n",
    "    tLen = len(text)    #longueur du texte\n",
    "    match = []\n",
    "    \n",
    "    for i in range (tLen - pLen+1):  #parcourir le texte jusqu'a ce que le pattern ne rentre plus dans le texte restant\n",
    "\n",
    "        j = 0  #comparer les lettres du pattern et du texte une a une\n",
    "        while (j<pLen):\n",
    "            if (text[i+j] != pattern[j]):  #si les lettres ne correspondent pas, exit de la boucle while\n",
    "                break\n",
    "            j+=1\n",
    "            \n",
    "        if (j==pLen):  #si le pattern correspond\n",
    "            match.append(i)  #ajouter a la liste des occurences\n",
    "    return match"
   ]
  },
  {
   "cell_type": "code",
   "execution_count": 23,
   "metadata": {},
   "outputs": [
    {
     "data": {
      "text/plain": [
       "[6]"
      ]
     },
     "execution_count": 23,
     "metadata": {},
     "output_type": "execute_result"
    }
   ],
   "source": [
    "#Test de la fonction naive\n",
    "pattern = \"atgc\"\n",
    "text = \"atcgetatgc\"\n",
    "naive_pattern_matching(pattern,text)"
   ]
  },
  {
   "cell_type": "markdown",
   "metadata": {},
   "source": [
    "## 4. Rabin-Karp Pattern Matching"
   ]
  },
  {
   "cell_type": "markdown",
   "metadata": {},
   "source": [
    "### 4.1 Prepare the main algorithm"
   ]
  },
  {
   "cell_type": "markdown",
   "metadata": {},
   "source": [
    "#### Q5. Write the function equals(A,B) which returns True if the word A equals word B, else return False"
   ]
  },
  {
   "cell_type": "code",
   "execution_count": 24,
   "metadata": {},
   "outputs": [],
   "source": [
    "#Compare 2 chaines de caracteres\n",
    "def equals(A,B):\n",
    "    A = A.upper()\n",
    "    B = B.upper()\n",
    "    return A==B"
   ]
  },
  {
   "cell_type": "code",
   "execution_count": 25,
   "metadata": {},
   "outputs": [],
   "source": [
    "def equals_bis(A,B):\n",
    "    assert len(A) == len(B)\n",
    "    for i in range(len(A)):\n",
    "        if A[i] != B[i]:\n",
    "            return False\n",
    "    return True\n",
    "\n",
    "def equals_ter(A,B):\n",
    "    assert len(A) == len(B)\n",
    "    for la, lb in zip(A,B):\n",
    "        if la != lb:\n",
    "            return False\n",
    "        return True"
   ]
  },
  {
   "cell_type": "code",
   "execution_count": 26,
   "metadata": {},
   "outputs": [
    {
     "data": {
      "text/plain": [
       "False"
      ]
     },
     "execution_count": 26,
     "metadata": {},
     "output_type": "execute_result"
    }
   ],
   "source": [
    "A1 = 'bakrb'\n",
    "B1 = 'kfjdf'\n",
    "equals(A1,B1)"
   ]
  },
  {
   "cell_type": "code",
   "execution_count": 27,
   "metadata": {},
   "outputs": [
    {
     "data": {
      "text/plain": [
       "True"
      ]
     },
     "execution_count": 27,
     "metadata": {},
     "output_type": "execute_result"
    }
   ],
   "source": [
    "A2 = 'dfkjfd'\n",
    "B2 = 'dfkjfd'\n",
    "equals(A2,B2)"
   ]
  },
  {
   "cell_type": "markdown",
   "metadata": {},
   "source": [
    "#### Q6. Write the function hash_value(S,p), S is string, p is prime, which returns an integer associatd to S (hash value of S)"
   ]
  },
  {
   "cell_type": "code",
   "execution_count": 28,
   "metadata": {},
   "outputs": [
    {
     "name": "stdout",
     "output_type": "stream",
     "text": [
      "97\n",
      "a\n"
     ]
    }
   ],
   "source": [
    "print( ord('a') ) #get ascii value from letter\n",
    "print( chr(97) )  #get letter from ascii value"
   ]
  },
  {
   "cell_type": "code",
   "execution_count": 29,
   "metadata": {},
   "outputs": [],
   "source": [
    "# creer un hash d'une string\n",
    "# fait la somme des valeurs ascii de chaque lettre\n",
    "def hash_value(s,p):\n",
    "    s = s.upper()\n",
    "    hash = 0\n",
    "    for i in range(len(s)):\n",
    "        hash += ord(s[i]) * p**i\n",
    "    return hash"
   ]
  },
  {
   "cell_type": "code",
   "execution_count": 30,
   "metadata": {},
   "outputs": [],
   "source": [
    "def hash_value_bis(S,p):\n",
    "    return sum([ord(S[i])*p**i for i in range(len(S))])"
   ]
  },
  {
   "cell_type": "code",
   "execution_count": 31,
   "metadata": {},
   "outputs": [
    {
     "name": "stdout",
     "output_type": "stream",
     "text": [
      "11862982\n"
     ]
    }
   ],
   "source": [
    "word = \"atctac\"\n",
    "prime = 11\n",
    "hash= hash_value(word,prime)\n",
    "print (hash)"
   ]
  },
  {
   "cell_type": "markdown",
   "metadata": {},
   "source": [
    "#### Q7. Write the function update_hash_value(previous hash, i, S, p, m ) which updates and returns a hash value"
   ]
  },
  {
   "cell_type": "code",
   "execution_count": 32,
   "metadata": {},
   "outputs": [],
   "source": [
    "# pass whole text as parameter\n",
    "def update_hash_value1(previous,i,S,prime,pLen):\n",
    "    S = S.upper()\n",
    "    hash = previous - ord(S[i])\n",
    "    hash //= prime\n",
    "    hash += ord(S[i+pLen]) * prime**(pLen-1)\n",
    "    return hash"
   ]
  },
  {
   "cell_type": "code",
   "execution_count": 33,
   "metadata": {},
   "outputs": [],
   "source": [
    "# pass substring of text as parameter\n",
    "# len(string) = len(pattern)+1, to get previous and next letter\n",
    "def update_hash_value2(previous,S,prime,pLen):\n",
    "    S = S.upper()\n",
    "    hash = previous - ord(S[0])\n",
    "    hash //= prime\n",
    "    hash += ord(S[pLen]) * prime**(pLen-1)\n",
    "    return hash"
   ]
  },
  {
   "cell_type": "code",
   "execution_count": 34,
   "metadata": {},
   "outputs": [
    {
     "name": "stdout",
     "output_type": "stream",
     "text": [
      "11798280\n",
      "11862982\n"
     ]
    }
   ],
   "source": [
    "#Test hash_value \n",
    "text = \"aatctacctatgtgc\"\n",
    "hash1 = hash_value(text[:len(word)],prime)\n",
    "print(hash1)\n",
    "\n",
    "#Test update_hash_value\n",
    "hash2 = update_hash_value1(hash1,0,text,prime,len(word))\n",
    "print(hash2)"
   ]
  },
  {
   "cell_type": "markdown",
   "metadata": {},
   "source": [
    "#### Q8. Validate the functions hash_value and update_hash_value on simple examples"
   ]
  },
  {
   "cell_type": "code",
   "execution_count": 35,
   "metadata": {},
   "outputs": [
    {
     "name": "stdout",
     "output_type": "stream",
     "text": [
      "patternHash 854745\n",
      "textHash1 909855, match : False\n",
      "textHash2 854745, match : True\n"
     ]
    }
   ],
   "source": [
    "#Init vars\n",
    "pattern = \"atgc\"\n",
    "prime = 23\n",
    "patternHash = hash_value(pattern,prime)\n",
    "\n",
    "#Exec hash functions on text\n",
    "text = \"catgcgagcgacgaatgc\"\n",
    "textHash1 = hash_value(text[:len(pattern)],prime) #hash at index 0 not matching\n",
    "textHash2 = update_hash_value1(textHash1,0,text,prime,len(pattern)) #hash at index 1 not matching\n",
    "\n",
    "#Print results\n",
    "print(f'patternHash {patternHash}')\n",
    "print(f'textHash1 {textHash1}, match : {patternHash == textHash1}')\n",
    "print(f'textHash2 {textHash2}, match : {patternHash == textHash2}')"
   ]
  },
  {
   "cell_type": "markdown",
   "metadata": {},
   "source": [
    "### 4.2 Rabin-Karp algorithm"
   ]
  },
  {
   "cell_type": "markdown",
   "metadata": {},
   "source": [
    "#### Q9. Write the function RabinKarp(P,T,p) that applies the Rabin-Karp algorithm and prints the occurences positions(s) of P in T"
   ]
  },
  {
   "cell_type": "code",
   "execution_count": 36,
   "metadata": {},
   "outputs": [],
   "source": [
    "# P : pattern (str)\n",
    "# T : text (str)\n",
    "# p : prime (int)\n",
    "\n",
    "#RabinKarp, passing whole text as parameter in update_hash function\n",
    "def RabinKarp1(P,T,p):\n",
    "    #Init vars\n",
    "    pattern = P.upper()\n",
    "    text = T.upper()\n",
    "    \n",
    "    #Check if text length is equal or longer than pattern, if not, cannot execute\n",
    "    pLen = len(pattern)\n",
    "    tLen = len(text)\n",
    "    assert pLen <= tLen\n",
    "    \n",
    "    matchList = []\n",
    "    \n",
    "    hash_pattern = hash_value(pattern,p) #Get pattern hash\n",
    "    hash_text = hash_value(text[:pLen],p) #Get first text hash\n",
    "    \n",
    "    \n",
    "    for i in range (tLen - pLen+1): # Iterate over text until the pattern doesn't fit\n",
    "        if(hash_pattern == hash_text): #If hashes match, check if non hashed strings match too (prevent collision errors)\n",
    "            j = 0\n",
    "            while (j<pLen):\n",
    "                if (text[i+j] != pattern[j]):\n",
    "                    break\n",
    "                j+=1\n",
    "            if (j==pLen):\n",
    "                matchList.append(i)\n",
    "                \n",
    "        #If there still enough text to compare in the next iteration (no condition -> out of bound)\n",
    "        if(i < tLen - pLen):\n",
    "            hash_text = update_hash_value1(hash_text,i,text,p,pLen)\n",
    "    return matchList"
   ]
  },
  {
   "cell_type": "code",
   "execution_count": 37,
   "metadata": {},
   "outputs": [],
   "source": [
    "# P : pattern (str)\n",
    "# T : text (str)\n",
    "# p : prime (int)\n",
    "\n",
    "#RabinKarp, passing substring of text as parameter in update_hash function\n",
    "def RabinKarp2(P,T,p):\n",
    "    pattern = P.upper()\n",
    "    text = T.upper()\n",
    "    pLen = len(pattern)\n",
    "    tLen = len(text)\n",
    "    assert pLen <= tLen\n",
    "    matchList = []\n",
    "    \n",
    "    hash_pattern = hash_value(pattern,p)\n",
    "    hash_text = hash_value(text[:pLen],p)\n",
    "    \n",
    "    for i in range (tLen - pLen+1):\n",
    "        if(hash_pattern == hash_text):\n",
    "            j = 0\n",
    "            while (j<pLen):\n",
    "                if (text[i+j] != pattern[j]):\n",
    "                    break\n",
    "                j+=1\n",
    "            if (j==pLen):\n",
    "                matchList.append(i)\n",
    "                \n",
    "        if(i < tLen - pLen):\n",
    "            hash_text = update_hash_value2(hash_text,text[i:i+pLen+1],p,pLen) #Changed the update_hash function\n",
    "    return matchList"
   ]
  },
  {
   "cell_type": "markdown",
   "metadata": {},
   "source": [
    "## 5. Validation"
   ]
  },
  {
   "cell_type": "markdown",
   "metadata": {},
   "source": [
    "#### Q10. Write a function validate_RK_Naive that calls the naive and Rabin-Karp pattern matching functions and tests that they return the same values on some well choosen sequences"
   ]
  },
  {
   "cell_type": "code",
   "execution_count": 38,
   "metadata": {},
   "outputs": [],
   "source": [
    "pattern = \"atcg\"\n",
    "text = \"acgatcgaatcgatcagcagaatcg\"\n",
    "prime = 19\n",
    "\n",
    "#Check if both functions return the same values (no time comparison yet)\n",
    "def validate_RK_Naive():\n",
    "    print(naive_pattern_matching(pattern,text))\n",
    "    print(RabinKarp1(pattern,text,prime))"
   ]
  },
  {
   "cell_type": "code",
   "execution_count": 39,
   "metadata": {},
   "outputs": [
    {
     "name": "stdout",
     "output_type": "stream",
     "text": [
      "[3, 8, 21]\n",
      "[3, 8, 21]\n"
     ]
    }
   ],
   "source": [
    "#Test\n",
    "validate_RK_Naive()"
   ]
  },
  {
   "cell_type": "markdown",
   "metadata": {},
   "source": [
    "#### Q11. [Bonus] Get the [file](http://bioinformatique.rennes.inria.fr/humch1_first_5M.fasta) that contains the first 5Mbp of the human chromosome.  \n",
    "#### Store the sequence in a text T.\n",
    "#### Makes searches with various queries P with the naive or the Rabin-Karp algorithm.\n",
    "#### Compare the results (must be equal) and computation times."
   ]
  },
  {
   "cell_type": "code",
   "execution_count": 40,
   "metadata": {},
   "outputs": [],
   "source": [
    "#library that works wit URLs\n",
    "import requests"
   ]
  },
  {
   "cell_type": "code",
   "execution_count": 41,
   "metadata": {},
   "outputs": [],
   "source": [
    "#Get texte from url\n",
    "url = \"http://bioinformatique.rennes.inria.fr/humch1_first_5M.fasta\"\n",
    "f = requests.get(url)\n",
    "text = f.text"
   ]
  },
  {
   "cell_type": "code",
   "execution_count": 42,
   "metadata": {},
   "outputs": [
    {
     "name": "stdout",
     "output_type": "stream",
     "text": [
      ">humchr1 5 first millions nucleotides\n",
      "NNNNNNNNNNNNNNNNNNNNNNNNNNNNNNNNNNNNNNNNNNNNNNNNNNNNNNNNNNNNNN\n"
     ]
    }
   ],
   "source": [
    "#Print first letters of the file\n",
    "print(text[:100])"
   ]
  },
  {
   "cell_type": "code",
   "execution_count": 43,
   "metadata": {},
   "outputs": [],
   "source": [
    "#Init vars\n",
    "pattern = \"atcg\"\n",
    "prime = 19"
   ]
  },
  {
   "cell_type": "code",
   "execution_count": 44,
   "metadata": {},
   "outputs": [
    {
     "name": "stdout",
     "output_type": "stream",
     "text": [
      "Naive took 1.8540570000000045 seconds\n",
      "\n",
      "3317 occurences found\n",
      "\n",
      "[11198, 12353, 12461, 15433, 17723, 20515, 20735, 27061, 28695, 29691]...\n"
     ]
    }
   ],
   "source": [
    "#Test of naive algorithm\n",
    "t0 = time.perf_counter()\n",
    "occ = naive_pattern_matching(pattern,text)\n",
    "t1 = time.perf_counter()\n",
    "print(f'Naive took {t1-t0} seconds\\n')\n",
    "print(f'{len(occ)} occurences found\\n')\n",
    "\n",
    "#Check first results of the list\n",
    "print(f'{occ[:10]}...')"
   ]
  },
  {
   "cell_type": "code",
   "execution_count": 45,
   "metadata": {},
   "outputs": [
    {
     "ename": "KeyboardInterrupt",
     "evalue": "",
     "output_type": "error",
     "traceback": [
      "\u001b[1;31m---------------------------------------------------------------------------\u001b[0m",
      "\u001b[1;31mKeyboardInterrupt\u001b[0m                         Traceback (most recent call last)",
      "\u001b[1;32m<ipython-input-45-6769c5d7cccc>\u001b[0m in \u001b[0;36m<module>\u001b[1;34m\u001b[0m\n\u001b[0;32m      1\u001b[0m \u001b[1;31m#Test of RK algorithm, passing whole text in hash function (TOO SLOW ?)\u001b[0m\u001b[1;33m\u001b[0m\u001b[1;33m\u001b[0m\u001b[1;33m\u001b[0m\u001b[0m\n\u001b[0;32m      2\u001b[0m \u001b[0mt0\u001b[0m \u001b[1;33m=\u001b[0m \u001b[0mtime\u001b[0m\u001b[1;33m.\u001b[0m\u001b[0mperf_counter\u001b[0m\u001b[1;33m(\u001b[0m\u001b[1;33m)\u001b[0m\u001b[1;33m\u001b[0m\u001b[1;33m\u001b[0m\u001b[0m\n\u001b[1;32m----> 3\u001b[1;33m \u001b[0mocc\u001b[0m \u001b[1;33m=\u001b[0m \u001b[0mRabinKarp1\u001b[0m\u001b[1;33m(\u001b[0m\u001b[0mpattern\u001b[0m\u001b[1;33m,\u001b[0m\u001b[0mtext\u001b[0m\u001b[1;33m,\u001b[0m\u001b[0mprime\u001b[0m\u001b[1;33m)\u001b[0m\u001b[1;33m\u001b[0m\u001b[1;33m\u001b[0m\u001b[0m\n\u001b[0m\u001b[0;32m      4\u001b[0m \u001b[0mt1\u001b[0m \u001b[1;33m=\u001b[0m \u001b[0mtime\u001b[0m\u001b[1;33m.\u001b[0m\u001b[0mperf_counter\u001b[0m\u001b[1;33m(\u001b[0m\u001b[1;33m)\u001b[0m\u001b[1;33m\u001b[0m\u001b[1;33m\u001b[0m\u001b[0m\n\u001b[0;32m      5\u001b[0m \u001b[0mprint\u001b[0m\u001b[1;33m(\u001b[0m\u001b[1;34mf'RK took {t1-t0} seconds\\n'\u001b[0m\u001b[1;33m)\u001b[0m\u001b[1;33m\u001b[0m\u001b[1;33m\u001b[0m\u001b[0m\n",
      "\u001b[1;32m<ipython-input-36-22632bb073d1>\u001b[0m in \u001b[0;36mRabinKarp1\u001b[1;34m(P, T, p)\u001b[0m\n\u001b[0;32m     32\u001b[0m         \u001b[1;31m#If there still enough text to compare in the next iteration (no condition -> out of bound)\u001b[0m\u001b[1;33m\u001b[0m\u001b[1;33m\u001b[0m\u001b[1;33m\u001b[0m\u001b[0m\n\u001b[0;32m     33\u001b[0m         \u001b[1;32mif\u001b[0m\u001b[1;33m(\u001b[0m\u001b[0mi\u001b[0m \u001b[1;33m<\u001b[0m \u001b[0mtLen\u001b[0m \u001b[1;33m-\u001b[0m \u001b[0mpLen\u001b[0m\u001b[1;33m)\u001b[0m\u001b[1;33m:\u001b[0m\u001b[1;33m\u001b[0m\u001b[1;33m\u001b[0m\u001b[0m\n\u001b[1;32m---> 34\u001b[1;33m             \u001b[0mhash_text\u001b[0m \u001b[1;33m=\u001b[0m \u001b[0mupdate_hash_value1\u001b[0m\u001b[1;33m(\u001b[0m\u001b[0mhash_text\u001b[0m\u001b[1;33m,\u001b[0m\u001b[0mi\u001b[0m\u001b[1;33m,\u001b[0m\u001b[0mtext\u001b[0m\u001b[1;33m,\u001b[0m\u001b[0mp\u001b[0m\u001b[1;33m,\u001b[0m\u001b[0mpLen\u001b[0m\u001b[1;33m)\u001b[0m\u001b[1;33m\u001b[0m\u001b[1;33m\u001b[0m\u001b[0m\n\u001b[0m\u001b[0;32m     35\u001b[0m     \u001b[1;32mreturn\u001b[0m \u001b[0mmatchList\u001b[0m\u001b[1;33m\u001b[0m\u001b[1;33m\u001b[0m\u001b[0m\n",
      "\u001b[1;32m<ipython-input-32-c160279b1746>\u001b[0m in \u001b[0;36mupdate_hash_value1\u001b[1;34m(previous, i, S, prime, pLen)\u001b[0m\n\u001b[0;32m      2\u001b[0m \u001b[1;32mdef\u001b[0m \u001b[0mupdate_hash_value1\u001b[0m\u001b[1;33m(\u001b[0m\u001b[0mprevious\u001b[0m\u001b[1;33m,\u001b[0m\u001b[0mi\u001b[0m\u001b[1;33m,\u001b[0m\u001b[0mS\u001b[0m\u001b[1;33m,\u001b[0m\u001b[0mprime\u001b[0m\u001b[1;33m,\u001b[0m\u001b[0mpLen\u001b[0m\u001b[1;33m)\u001b[0m\u001b[1;33m:\u001b[0m\u001b[1;33m\u001b[0m\u001b[1;33m\u001b[0m\u001b[0m\n\u001b[0;32m      3\u001b[0m     \u001b[0mS\u001b[0m \u001b[1;33m=\u001b[0m \u001b[0mS\u001b[0m\u001b[1;33m.\u001b[0m\u001b[0mupper\u001b[0m\u001b[1;33m(\u001b[0m\u001b[1;33m)\u001b[0m\u001b[1;33m\u001b[0m\u001b[1;33m\u001b[0m\u001b[0m\n\u001b[1;32m----> 4\u001b[1;33m     \u001b[0mhash\u001b[0m \u001b[1;33m=\u001b[0m \u001b[0mprevious\u001b[0m \u001b[1;33m-\u001b[0m \u001b[0mord\u001b[0m\u001b[1;33m(\u001b[0m\u001b[0mS\u001b[0m\u001b[1;33m[\u001b[0m\u001b[0mi\u001b[0m\u001b[1;33m]\u001b[0m\u001b[1;33m)\u001b[0m\u001b[1;33m\u001b[0m\u001b[1;33m\u001b[0m\u001b[0m\n\u001b[0m\u001b[0;32m      5\u001b[0m     \u001b[0mhash\u001b[0m \u001b[1;33m//=\u001b[0m \u001b[0mprime\u001b[0m\u001b[1;33m\u001b[0m\u001b[1;33m\u001b[0m\u001b[0m\n\u001b[0;32m      6\u001b[0m     \u001b[0mhash\u001b[0m \u001b[1;33m+=\u001b[0m \u001b[0mord\u001b[0m\u001b[1;33m(\u001b[0m\u001b[0mS\u001b[0m\u001b[1;33m[\u001b[0m\u001b[0mi\u001b[0m\u001b[1;33m+\u001b[0m\u001b[0mpLen\u001b[0m\u001b[1;33m]\u001b[0m\u001b[1;33m)\u001b[0m \u001b[1;33m*\u001b[0m \u001b[0mprime\u001b[0m\u001b[1;33m**\u001b[0m\u001b[1;33m(\u001b[0m\u001b[0mpLen\u001b[0m\u001b[1;33m-\u001b[0m\u001b[1;36m1\u001b[0m\u001b[1;33m)\u001b[0m\u001b[1;33m\u001b[0m\u001b[1;33m\u001b[0m\u001b[0m\n",
      "\u001b[1;31mKeyboardInterrupt\u001b[0m: "
     ]
    }
   ],
   "source": [
    "#Test of RK algorithm, passing whole text in hash function (TOO SLOW ?)\n",
    "t0 = time.perf_counter()\n",
    "occ = RabinKarp1(pattern,text,prime)\n",
    "t1 = time.perf_counter()\n",
    "print(f'RK took {t1-t0} seconds\\n')\n",
    "print(f'{len(occ)} occurences found\\n')\n",
    "\n",
    "#Check first results of the list\n",
    "print(f'{occ[:10]}...')"
   ]
  },
  {
   "cell_type": "code",
   "execution_count": 46,
   "metadata": {
    "scrolled": true
   },
   "outputs": [
    {
     "name": "stdout",
     "output_type": "stream",
     "text": [
      "RK took 7.057582200000013 seconds\n",
      "\n",
      "3317 occurences found\n",
      "\n",
      "[11198, 12353, 12461, 15433, 17723, 20515, 20735, 27061, 28695, 29691]...\n"
     ]
    }
   ],
   "source": [
    "#Test of RK algorithm, passing substring of text in hash function\n",
    "t0 = time.perf_counter()\n",
    "occ = RabinKarp2(pattern,text,prime)\n",
    "t1 = time.perf_counter()\n",
    "print(f'RK took {t1-t0} seconds\\n')\n",
    "print(f'{len(occ)} occurences found\\n')\n",
    "\n",
    "#Check first results of the list\n",
    "print(f'{occ[:10]}...')"
   ]
  },
  {
   "cell_type": "markdown",
   "metadata": {},
   "source": [
    "## (Optional) Rabin-Karp for multiple pattern"
   ]
  },
  {
   "cell_type": "code",
   "execution_count": 47,
   "metadata": {},
   "outputs": [],
   "source": [
    "# PSet : patternSet ({str})\n",
    "# T : text (str)\n",
    "# p : prime (int)\n",
    "\n",
    "#Search for multiple patterns in the text\n",
    "#We consider that akk the patterns have the same length (??)\n",
    "def RabinKarpMultiple(PSet,T,p):\n",
    "    text = T.upper()\n",
    "    pSetUpper = set()\n",
    "    firstElem = next(iter(PSet))\n",
    "    pLen = len(firstElem) #Get length of patterns in the set\n",
    "    tLen = len(text)\n",
    "    \n",
    "    matchMap = dict()\n",
    "    hash_patterns = set()\n",
    "    \n",
    "    for pattern in PSet: #Create a set of hashed values for all patterns\n",
    "        assert pLen <= tLen  \n",
    "        pattern = pattern.upper() #Check case sensitivity\n",
    "        \n",
    "        pSetUpper.add(pattern) #Add uppercased pattern in new set\n",
    "        matchMap[pattern] = [] #Create entry for each pattern in the map to return,to list the occurences \n",
    "        hash_patterns.add(hash_value(pattern,p)) #add hashed pattern to set\n",
    "        \n",
    "        \n",
    "    \n",
    "    hash_text = hash_value(text[:pLen],p) #Get first hash in text\n",
    "    \n",
    "    for i in range (tLen - pLen+1):\n",
    "        substring = text[i:i+pLen]\n",
    "        if(hash_text in hash_patterns and substring in pSetUpper): #Check if hashes and original values match\n",
    "                matchMap[substring].append(i) #Add the index to the corresponding pattern\n",
    "                \n",
    "        if(i < tLen - pLen): #if there's enough text left for the next iteration\n",
    "            hash_text = update_hash_value2(hash_text,text[i:i+pLen+1],p,pLen)\n",
    "            \n",
    "    return matchMap"
   ]
  },
  {
   "cell_type": "code",
   "execution_count": 48,
   "metadata": {},
   "outputs": [],
   "source": [
    "#Init vars\n",
    "patternSet = {'agccaa','cgatgt','TCCCAC'}"
   ]
  },
  {
   "cell_type": "code",
   "execution_count": 49,
   "metadata": {},
   "outputs": [
    {
     "name": "stdout",
     "output_type": "stream",
     "text": [
      "RKMultiple took 8.620301799999993 seconds\n",
      "\n"
     ]
    }
   ],
   "source": [
    "#Test of RK algorithm for multiple patterns\n",
    "t0 = time.perf_counter()\n",
    "occ = RabinKarpMultiple(patternSet,text,prime)\n",
    "t1 = time.perf_counter()\n",
    "print(f'RKMultiple took {t1-t0} seconds\\n')"
   ]
  },
  {
   "cell_type": "code",
   "execution_count": 50,
   "metadata": {},
   "outputs": [],
   "source": [
    "#Print occurences \n",
    "def printOcc(map):\n",
    "    for pattern, occ in map.items():\n",
    "        print(f'{pattern} : {len(occ)} occurence(s)\\n')\n",
    "    for pattern, occ in map.items():\n",
    "        #Check first results of the list\n",
    "        print(f'{pattern} : {occ[:10]}...\\n')"
   ]
  },
  {
   "cell_type": "code",
   "execution_count": 51,
   "metadata": {},
   "outputs": [
    {
     "name": "stdout",
     "output_type": "stream",
     "text": [
      "AGCCAA : 1444 occurence(s)\n",
      "\n",
      "TCCCAC : 2347 occurence(s)\n",
      "\n",
      "CGATGT : 229 occurence(s)\n",
      "\n",
      "AGCCAA : [12567, 17143, 19555, 19601, 20363, 22117, 23355, 26287, 39162, 39888]...\n",
      "\n",
      "TCCCAC : [11636, 13248, 16638, 17255, 17264, 17467, 20046, 21807, 23617, 24430]...\n",
      "\n",
      "CGATGT : [73265, 89603, 129091, 176810, 176823, 236164, 249986, 329080, 374399, 453328]...\n",
      "\n"
     ]
    }
   ],
   "source": [
    "printOcc(occ)"
   ]
  },
  {
   "cell_type": "code",
   "execution_count": null,
   "metadata": {},
   "outputs": [],
   "source": []
  }
 ],
 "metadata": {
  "kernelspec": {
   "display_name": "Python 3",
   "language": "python",
   "name": "python3"
  },
  "language_info": {
   "codemirror_mode": {
    "name": "ipython",
    "version": 3
   },
   "file_extension": ".py",
   "mimetype": "text/x-python",
   "name": "python",
   "nbconvert_exporter": "python",
   "pygments_lexer": "ipython3",
   "version": "3.8.3"
  }
 },
 "nbformat": 4,
 "nbformat_minor": 4
}
