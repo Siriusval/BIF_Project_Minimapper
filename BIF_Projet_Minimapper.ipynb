{
 "cells": [
  {
   "cell_type": "markdown",
   "metadata": {},
   "source": [
    "# BIF - Projet Minimapper"
   ]
  },
  {
   "cell_type": "markdown",
   "metadata": {},
   "source": [
    "#### Objectifs\n",
    "1. FM-index et la BWT pour indexer le génome de référence (TP 4)  \n",
    "2. Pattern matching exacte de taille k (ancre)  \n",
    "3. Programme de programmation dynamique implémenté dans le TP 5\n",
    "\n",
    "#### Bonus\n",
    "4. Aligner rev-complement\n",
    "5. Améliorer le temps de calcul\n",
    "6. Améliorer l’empreinte mémoire"
   ]
  },
  {
   "cell_type": "markdown",
   "metadata": {},
   "source": [
    "## Get BWT (Tests)"
   ]
  },
  {
   "cell_type": "code",
   "execution_count": 1,
   "metadata": {},
   "outputs": [],
   "source": [
    "#Import class that can create bwt on a reference string\n",
    "from reference import Reference"
   ]
  },
  {
   "cell_type": "code",
   "execution_count": 2,
   "metadata": {},
   "outputs": [],
   "source": [
    "# Test for Reference constructor\n",
    "ref = Reference()"
   ]
  },
  {
   "cell_type": "code",
   "execution_count": 3,
   "metadata": {},
   "outputs": [],
   "source": [
    "# Test for Reference createIndex, build SA and BWT\n",
    "ref.createIndex(\"AGTCGTC$\") "
   ]
  },
  {
   "cell_type": "code",
   "execution_count": 4,
   "metadata": {},
   "outputs": [
    {
     "data": {
      "text/plain": [
       "[7, 0, 6, 3, 4, 1, 5, 2]"
      ]
     },
     "execution_count": 4,
     "metadata": {},
     "output_type": "execute_result"
    }
   ],
   "source": [
    "# Test for Reference suffixArray\n",
    "ref.sa"
   ]
  },
  {
   "cell_type": "code",
   "execution_count": 5,
   "metadata": {},
   "outputs": [
    {
     "data": {
      "text/plain": [
       "['C', '$', 'T', 'T', 'C', 'A', 'G', 'G']"
      ]
     },
     "execution_count": 5,
     "metadata": {},
     "output_type": "execute_result"
    }
   ],
   "source": [
    "# Test for Reference BWT\n",
    "ref.bwt"
   ]
  },
  {
   "cell_type": "markdown",
   "metadata": {},
   "source": [
    "## Sauvegarder / Recuperer"
   ]
  },
  {
   "cell_type": "code",
   "execution_count": 6,
   "metadata": {},
   "outputs": [],
   "source": [
    "# Test for Reference save()\n",
    "ref.save(\"myObject\")"
   ]
  },
  {
   "cell_type": "code",
   "execution_count": 7,
   "metadata": {},
   "outputs": [
    {
     "name": "stdout",
     "output_type": "stream",
     "text": [
      "AGTCGTC$\n",
      "[7, 0, 6, 3, 4, 1, 5, 2]\n",
      "['C', '$', 'T', 'T', 'C', 'A', 'G', 'G']\n"
     ]
    }
   ],
   "source": [
    "# Test for Reference load()\n",
    "ref2 = Reference()\n",
    "ref2.load(\"myObject\")\n",
    "print(ref2.text)\n",
    "print(ref2.sa)\n",
    "print(ref2.bwt)"
   ]
  },
  {
   "cell_type": "markdown",
   "metadata": {},
   "source": [
    "## Search"
   ]
  },
  {
   "cell_type": "code",
   "execution_count": 8,
   "metadata": {},
   "outputs": [],
   "source": [
    "from exactPatternIdentification import ExactPatternIdentification"
   ]
  },
  {
   "cell_type": "code",
   "execution_count": 9,
   "metadata": {},
   "outputs": [],
   "source": [
    "epi = ExactPatternIdentification(ref)"
   ]
  },
  {
   "cell_type": "code",
   "execution_count": 10,
   "metadata": {},
   "outputs": [],
   "source": [
    "pattern =\"GT\"\n"
   ]
  },
  {
   "cell_type": "code",
   "execution_count": 11,
   "metadata": {},
   "outputs": [
    {
     "data": {
      "text/plain": [
       "[1, 4]"
      ]
     },
     "execution_count": 11,
     "metadata": {},
     "output_type": "execute_result"
    }
   ],
   "source": [
    "epi.search(pattern)"
   ]
  },
  {
   "cell_type": "code",
   "execution_count": 12,
   "metadata": {},
   "outputs": [
    {
     "data": {
      "text/plain": [
       "[2]"
      ]
     },
     "execution_count": 12,
     "metadata": {},
     "output_type": "execute_result"
    }
   ],
   "source": [
    "epi.search(\"TCG\")"
   ]
  },
  {
   "cell_type": "markdown",
   "metadata": {},
   "source": [
    "## Parse reads.fasta"
   ]
  },
  {
   "cell_type": "code",
   "execution_count": 13,
   "metadata": {},
   "outputs": [],
   "source": [
    "def openReads(filename : str):\n",
    "    stream = open(filename, \"r\")\n",
    "    return stream\n",
    "\n",
    "def getNextRead(stream):\n",
    "    name = stream.readline()[1:].strip()\n",
    "    if not name:\n",
    "        return -1,-1\n",
    "    content = stream.readline().strip()\n",
    "    return name,content"
   ]
  },
  {
   "cell_type": "code",
   "execution_count": 14,
   "metadata": {},
   "outputs": [],
   "source": [
    "stream = openReads(\"test1/reads.fasta\")"
   ]
  },
  {
   "cell_type": "code",
   "execution_count": 15,
   "metadata": {},
   "outputs": [
    {
     "name": "stdout",
     "output_type": "stream",
     "text": [
      "read1\n",
      "CGAGCTGGTCCTAACCCGGAGACCGCAGGCTGCGCGCGTATCGCAGCATCTGGCATTACGCCGCATCGAGTGCATGCACGAGAGAAGGAAGGGCACTGTT\n"
     ]
    }
   ],
   "source": [
    "name,content = getNextRead(stream)\n",
    "print(name)\n",
    "print(content)"
   ]
  },
  {
   "cell_type": "code",
   "execution_count": 16,
   "metadata": {},
   "outputs": [
    {
     "name": "stdout",
     "output_type": "stream",
     "text": [
      "read2\n",
      "TGAAGACTAATCCTCATTCCCTGTGTCACCGCAATTTCAGCCAAGCCAGCCACGCGCTCCTTGTTAGTCGTATATGGCGTTAATGAGCTTCAAACCCCGA\n"
     ]
    }
   ],
   "source": [
    "name,content = getNextRead(stream)\n",
    "print(name)\n",
    "print(content)"
   ]
  },
  {
   "cell_type": "code",
   "execution_count": null,
   "metadata": {},
   "outputs": [],
   "source": []
  },
  {
   "cell_type": "code",
   "execution_count": 17,
   "metadata": {},
   "outputs": [],
   "source": [
    "class DMLinearMem():\n",
    "    '''\n",
    "    stores a matrix 2x|T| (2 lines and |T|+1columns), sequences S and T and the score system (match, mismatch, gap)\n",
    "    defines some semi-global alignment functions, with linear memory complexity \n",
    "    '''\n",
    "\n",
    "    def __init__(self, S, T, match, mismatch, gap):\n",
    "        ''' defines and stores initial values'''\n",
    "        \n",
    "        self.S=S\n",
    "        self.T=T\n",
    "        self.gap=gap\n",
    "        self.match=match\n",
    "        self.mismatch=mismatch\n",
    "        \n",
    "        #only 2 lines\n",
    "        self.matrix = [0 for i in range(2)]\n",
    "        \n",
    "        #Init lines with 0\n",
    "        for i in range(2):\n",
    "            self.matrix[i] = [0 for j in range(len(T)+1)]\n",
    "    \n",
    "    def printLine(self,count):\n",
    "        '''\n",
    "        Print one line of the matrix\n",
    "        if first line, print also T\n",
    "        else print only second line after\n",
    "        '''\n",
    "        width = 4\n",
    "        \n",
    "        #Print headers\n",
    "        if(count== 0):\n",
    "\n",
    "            vide = \" \"\n",
    "            line = f\"{vide:>{2*width}}\"\n",
    "        \n",
    "            for j in range(0,len(self.T)):\n",
    "                line += f\"{self.T[j]:>{width}}\"\n",
    "            print(line)\n",
    "\n",
    "            line = f\"{vide:>{width}}\"\n",
    "            \n",
    "            #print first line (no letter)\n",
    "            for j in range(0,len(self.T)+1):\n",
    "                line += f\"{self.matrix[0][j]:>{width}}\"\n",
    "            print(line)\n",
    "            \n",
    "        \n",
    "        #print only second line\n",
    "        line = f\"{self.S[count]:>{width}}\"\n",
    "        for j in range(0,len(self.T)+1):\n",
    "            line += f\"{self.matrix[1][j]:>{width}}\"\n",
    "        print(line)\n",
    "           \n",
    "            \n",
    "    def score(self, a : str, b : str) -> int :\n",
    "        '''\n",
    "        Compare two char\n",
    "        Return match score if equals\n",
    "        else return mismatch score \n",
    "        '''\n",
    "        if(a == b):\n",
    "            return self.match\n",
    "        return self.mismatch\n",
    "    \n",
    "    def getBestScore(self,shouldPrint: bool = False):     \n",
    "        '''\n",
    "        Fill the matrix but only keep 2 lines in memory\n",
    "        '''\n",
    "        #While last char of S not reached\n",
    "        count = 0\n",
    "        while(count < len(self.S)):\n",
    "            #Calc second line\n",
    "            for j in range(1,len(self.T)+1):\n",
    "                #calc best value\n",
    "                delete = self.matrix[0][j] + self.gap\n",
    "                insert = self.matrix[1][j-1] + self.gap\n",
    "                match = self.matrix[0][j-1] + self.score(self.S[count],self.T[j-1])\n",
    "                \n",
    "                self.matrix[1][j] = max(delete,insert,match,0)\n",
    "            \n",
    "            #\n",
    "            if (shouldPrint):\n",
    "                self.printLine(count)\n",
    "            \n",
    "            #Copy second line to first\n",
    "            self.matrix[0] = self.matrix[1]\n",
    "                        \n",
    "            #Reset second line\n",
    "            self.matrix[1] = [0 for i in range(len(self.T)+1)]\n",
    "            \n",
    "            #Increment number of line done / letters of S\n",
    "            count +=1\n",
    "            \n",
    "        return max(self.matrix[0])\n",
    "                \n",
    "            "
   ]
  },
  {
   "cell_type": "code",
   "execution_count": 18,
   "metadata": {},
   "outputs": [],
   "source": [
    "dml = DMLinearMem(\"GATAG\",\"AATGAATCAAT\", +2, -1, -1)"
   ]
  },
  {
   "cell_type": "code",
   "execution_count": 19,
   "metadata": {},
   "outputs": [
    {
     "name": "stdout",
     "output_type": "stream",
     "text": [
      "           A   A   T   G   A   A   T   C   A   A   T\n",
      "       0   0   0   0   0   0   0   0   0   0   0   0\n",
      "   G   0   0   0   0   2   1   0   0   0   0   0   0\n",
      "   A   0   2   2   1   1   4   3   2   1   2   2   1\n",
      "   T   0   1   1   4   3   3   3   5   4   3   2   4\n",
      "   A   0   2   3   3   3   5   5   4   4   6   5   4\n",
      "   G   0   1   2   2   5   4   4   4   3   5   5   4\n",
      "score :  5\n"
     ]
    }
   ],
   "source": [
    "score = dml.getBestScore(True)\n",
    "print(\"score : \",score)"
   ]
  },
  {
   "cell_type": "markdown",
   "metadata": {},
   "source": [
    "## AlignSemiGlobal"
   ]
  },
  {
   "cell_type": "code",
   "execution_count": 20,
   "metadata": {},
   "outputs": [],
   "source": [
    "def alignSemiGlobal(read,index,posSeedInRef,posSeedInRead,k,dmax):\n",
    "\n",
    "    #getSubstring of ref for alignement\n",
    "    startIndexReference = posSeedInRef - dmax - posSeedInRead #pos of anchor - dmax - number of char before the seed in the read\n",
    "    startIndexReference = startIndexReference if startIndexReference > 0 else 0 \n",
    "    \n",
    "    endIndexReference = posSeedInRef + dmax + len(read) - posSeedInRead #pos of anchor + dmax + number of char after the seed in the read\n",
    "    endIndexReference = endIndexReference if endIndexReference < len(index.text)-1 else len(index.text)-1 \n",
    "    \n",
    "    substringRef = index.text[startIndexReference:endIndexReference+1]\n",
    "    dm = DMLinearMem(read,substringRef, +2, -1, -1)\n",
    "    \n",
    "    return dm.getBestScore()\n",
    "    \n",
    "    "
   ]
  },
  {
   "cell_type": "code",
   "execution_count": 21,
   "metadata": {},
   "outputs": [
    {
     "name": "stdout",
     "output_type": "stream",
     "text": [
      ">random sequence 1 consisting of 1000 bases.\n",
      "\n",
      "CGAGCTGGTCCTAACCCGGAGACCGCAGGCTGCGCGCGTATCGCAGCATCTGGCATTACGCCGCATCGAGTGCATGCACGAGAGAAGGAAGGGCACTGTTCGCTACCAGTCTACCCTACATAAGATTATACACATCTTTGAGTTTTTTCGTCCATCAAGTAGCGAAACGGATGTAGCGCTTCCCGACGGACTTCATAGGCGATTCACTCACGGTCGATTGAGCCGGGCGGAGCATGCTACACGTGTAAATGTTCTCGGTTAACTATTATGGTTTGGATGATTGGTGCCAGTGTTGCTTGCGTCTGACGAGTACACACCCTATAGAGAAAGAATACCTCATGTTTGCGTAACGAGCGTTCAATTTCCTCCTGTTTGTACCTTACCCCGAGGGTTATCGAACCTTGCGGGCTGGGTCGGAAAACTTGTCTTAGAGGCCTGCGACCGTGATTACATTGCTACAGATTGTCCCCATTGTTCCGCGGAGGCATTTTCGCAGGACGTCTGATGTAATGCGGTTTCCCTTGAAGGATAGGCATAATTTGATTGATCACTTCACTGCGATCTAGCTATGTTTAGAGTAATAGTTTCCAACCCACTGAGGCACTCTCGTTCTGTGAAACAGTTAGGCCGGTTGCCGTGCGCAGCAACATGGTGTGGACACATCTCCCAGCCTGTTGAATGACGGCCTAGTGTCAGGAATTAGAGAGCCTTAACCCTATCAGGGTTGTCCCGACAGTTGACATCGCCCGAGATGGCTCTTTTGAAGGGCCCCAAGATCGGCTGCATCTACTTGGCACAACGGCTTTGCCTGGCTCGTTAAAATCCTGTCACATACGCGAGTTCCCGAAGTTGGCCGATTGCCCCTATCACCGTGTTGGAACCCATGTGTTAGCACAGACCTGAAGACTAATCCTCATTCCCTGTGTCACCGCAATTTCAGCCAAGCCAGCCACGCGCTCCTTGTTAGTCGTATATGGCGTTAATGAGCTTCAAACCCCGA\n"
     ]
    }
   ],
   "source": [
    "f = open(\"test1/reference.fasta\", \"r\")\n",
    "print(f.readline())\n",
    "line =  f.readline().strip()\n",
    "print(line)\n",
    "\n",
    "ref = Reference()\n",
    "ref.createIndex(line)"
   ]
  },
  {
   "cell_type": "code",
   "execution_count": 22,
   "metadata": {},
   "outputs": [],
   "source": [
    "def getBestSemiGlobalAlg(read,index,k,dmax):\n",
    "    epi= ExactPatternIdentification(index)\n",
    "    seeds = [read[i:i+k] for i in range(0, len(read), k)]\n",
    "    bestScore = -1\n",
    "    bestPos = -1\n",
    "    for i in range(0,len(seeds)):\n",
    "        seed = seeds[i]\n",
    "        positions = epi.search(seed) #find positions of seed in Ref\n",
    "        if(positions == -1): #seed not in reference\n",
    "            return -1,-1\n",
    "        \n",
    "        \n",
    "        for position in positions: #attention a ne pas retraiter une portion deja traitéé(liste tuple ?)\n",
    "            score = alignSemiGlobal(read,index,position,i*k,k,dmax)\n",
    "            if (score > bestScore):\n",
    "                bestScore = score\n",
    "                bestPos = position\n",
    "    \n",
    "    return bestScore,bestPos"
   ]
  },
  {
   "cell_type": "code",
   "execution_count": 23,
   "metadata": {},
   "outputs": [
    {
     "data": {
      "text/plain": [
       "(200, 0)"
      ]
     },
     "execution_count": 23,
     "metadata": {},
     "output_type": "execute_result"
    }
   ],
   "source": [
    "getBestSemiGlobalAlg(\"CGAGCTGGTCCTAACCCGGAGACCGCAGGCTGCGCGCGTATCGCAGCATCTGGCATTACGCCGCATCGAGTGCATGCACGAGAGAAGGAAGGGCACTGTT\",ref,19,5)"
   ]
  },
  {
   "cell_type": "code",
   "execution_count": 24,
   "metadata": {},
   "outputs": [
    {
     "data": {
      "text/plain": [
       "(8, 107)"
      ]
     },
     "execution_count": 24,
     "metadata": {},
     "output_type": "execute_result"
    }
   ],
   "source": [
    "getBestSemiGlobalAlg(\"AGTC\",ref,2,5)"
   ]
  },
  {
   "cell_type": "markdown",
   "metadata": {},
   "source": [
    "## Output Write"
   ]
  },
  {
   "cell_type": "code",
   "execution_count": 25,
   "metadata": {},
   "outputs": [],
   "source": [
    "def appendResults(outputStream,readName:str,bestPos : int,isRevCompl:bool,bestScore:int):\n",
    "    t = \"\\t\"\n",
    "    str =f'{readName}{t}{bestPos}{t}{\"-\" if isRevCompl else \"+\"}{t}{bestScore}{t}\\n'\n",
    "    outputStream.write(str)"
   ]
  },
  {
   "cell_type": "markdown",
   "metadata": {},
   "source": [
    "## Main"
   ]
  },
  {
   "cell_type": "code",
   "execution_count": 26,
   "metadata": {},
   "outputs": [],
   "source": [
    "\"\"\"\n",
    "Find the best alignments of all reads on a reference\n",
    "output a text file with results\n",
    "\"\"\"\n",
    "def main (index : Reference,readsFilename : str,outFilename : str, k: int, dmax : int):\n",
    "    #open file reads  \n",
    "    inputStream = openReads(readsFilename)\n",
    "    readName,readContent = getNextRead(inputStream)\n",
    "    \n",
    "    #\n",
    "    outputStream = open(outFilename, \"w\")\n",
    "        \n",
    "    while(readContent!= -1):\n",
    "        print(readName)\n",
    "        bestScore,bestPos = getBestSemiGlobalAlg(readContent,index,k,dmax)#(score,pos)\n",
    "        isRevCompl = False\n",
    "        #Found a reult\n",
    "        if(bestScore != -1):\n",
    "            #We return the number of errors\n",
    "            bestScore = 2*len(readContent)-bestScore\n",
    "        \n",
    "        appendResults(outputStream,readName,bestPos,isRevCompl,bestScore) #with tabs\n",
    "        readName,readContent = getNextRead(inputStream)\n",
    "\n",
    "    outputStream.close()\n",
    "\n"
   ]
  },
  {
   "cell_type": "code",
   "execution_count": 27,
   "metadata": {
    "scrolled": true
   },
   "outputs": [
    {
     "name": "stdout",
     "output_type": "stream",
     "text": [
      "read1\n",
      "read2\n",
      "read3\n",
      "read4\n",
      "read5\n",
      "read6\n",
      "read7\n",
      "read8\n",
      "read9\n",
      "read10\n",
      "read11\n",
      "read12\n",
      "read13\n",
      "read14\n",
      "read15\n",
      "read16\n",
      "read17\n",
      "read18\n",
      "read19\n",
      "read20\n",
      "read21\n",
      "read22\n"
     ]
    }
   ],
   "source": [
    "main(ref,\"test1/reads.fasta\",\"test1/res_reference_debug1.txt\",20,4)"
   ]
  },
  {
   "cell_type": "code",
   "execution_count": null,
   "metadata": {},
   "outputs": [],
   "source": []
  },
  {
   "cell_type": "code",
   "execution_count": null,
   "metadata": {},
   "outputs": [],
   "source": []
  }
 ],
 "metadata": {
  "kernelspec": {
   "display_name": "Python 3",
   "language": "python",
   "name": "python3"
  },
  "language_info": {
   "codemirror_mode": {
    "name": "ipython",
    "version": 3
   },
   "file_extension": ".py",
   "mimetype": "text/x-python",
   "name": "python",
   "nbconvert_exporter": "python",
   "pygments_lexer": "ipython3",
   "version": "3.8.3"
  }
 },
 "nbformat": 4,
 "nbformat_minor": 4
}
